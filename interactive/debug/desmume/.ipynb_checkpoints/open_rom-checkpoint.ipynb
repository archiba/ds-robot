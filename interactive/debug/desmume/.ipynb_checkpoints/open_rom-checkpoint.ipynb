{
 "cells": [
  {
   "cell_type": "code",
   "execution_count": null,
   "id": "b4204318-d8ac-4763-ba6c-a8e262ec7a1f",
   "metadata": {},
   "source": [
    "from dsrobo.config import Config"
   ],
   "outputs": []
  },
  {
   "cell_type": "code",
   "execution_count": null,
   "id": "a379b343-51b1-4426-b3f0-08ae79d717e6",
   "metadata": {},
   "source": [
    "from dsrobo.launcher.desmume import DeSmuMELauncher"
   ],
   "outputs": []
  },
  {
   "cell_type": "code",
   "execution_count": null,
   "id": "efff4238-665a-468d-81e6-7b3ec8f7655d",
   "metadata": {},
   "source": [
    "import dsrobo.utils"
   ],
   "outputs": []
  },
  {
   "cell_type": "code",
   "execution_count": null,
   "id": "12b06478-a252-4f8f-aae6-f5c26915cdd1",
   "metadata": {},
   "source": [
    "import atomacos"
   ],
   "outputs": []
  },
  {
   "cell_type": "code",
   "execution_count": null,
   "id": "569e180d-746a-4623-96b0-18652329dd0f",
   "metadata": {},
   "source": [
    "import time"
   ],
   "outputs": []
  },
  {
   "cell_type": "code",
   "execution_count": null,
   "id": "ae1f16a7-b21e-450d-8fa1-8c78f817ca05",
   "metadata": {},
   "source": [
    "config = Config()"
   ],
   "outputs": []
  },
  {
   "cell_type": "code",
   "execution_count": null,
   "id": "0423487c-9444-4219-979c-5e91f2c77deb",
   "metadata": {},
   "source": [
    "launcher = DeSmuMELauncher()"
   ],
   "outputs": []
  },
  {
   "cell_type": "code",
   "execution_count": null,
   "id": "fba42392-6b87-442e-aeb3-f742d9ad1fd8",
   "metadata": {},
   "source": [
    "application = launcher.launch(config)"
   ],
   "outputs": []
  },
  {
   "cell_type": "code",
   "execution_count": null,
   "id": "91fa49ce-4125-499b-a086-412e358a1653",
   "metadata": {},
   "source": [
    "time.sleep(3)\n",
    "atomacos.keyboard.hotkey('command', 'o')\n",
    "time.sleep(1)\n",
    "open_rom_window = dsrobo.utils.find_window_by_exact_name(application, 'Open ROM')\n",
    "atomacos.keyboard.hotkey('command', 'shift', 'g')\n",
    "time.sleep(1)\n",
    "atomacos.keyboard.typewrite('/Users/archiba/Documents/archiba/nds/POKEMON_SS_IPGJ01_00.trim.nds')\n",
    "time.sleep(5)\n",
    "atomacos.keyboard.hotkey('enter')\n",
    "time.sleep(1)\n",
    "atomacos.keyboard.hotkey('enter')\n",
    "time.sleep(1)\n",
    "assert dsrobo.utils.find_window_by_exact_name(application, 'Open ROM') is None"
   ],
   "outputs": []
  },
  {
   "cell_type": "code",
   "execution_count": null,
   "id": "c14109b5-d2e5-47c3-af0f-d95ac59115e7",
   "metadata": {},
   "source": [
    "open_rom_window = dsrobo.utils.find_window_by_exact_name(application, 'Open ROM')"
   ],
   "outputs": []
  },
  {
   "cell_type": "code",
   "execution_count": null,
   "id": "17c560f2-2654-483b-ab71-51d1b65927d3",
   "metadata": {},
   "source": [
    "assert open_rom_window is not None"
   ],
   "outputs": []
  },
  {
   "cell_type": "code",
   "execution_count": null,
   "id": "efae01ec-78d2-446f-9527-5e29adb77545",
   "metadata": {},
   "source": [
    "application"
   ],
   "outputs": []
  },
  {
   "cell_type": "code",
   "execution_count": null,
   "id": "06946b25-be79-4a70-9a05-b6501258dee9",
   "metadata": {},
   "source": [
    "assert open_rom_window is None"
   ],
   "outputs": []
  },
  {
   "cell_type": "code",
   "execution_count": null,
   "id": "9c0ea6a0-1457-4c25-9fb7-27477dbca089",
   "metadata": {},
   "source": [],
   "outputs": []
  },
  {
   "cell_type": "code",
   "execution_count": null,
   "id": "234ecee1-e269-4889-8975-f2a724866bbd",
   "metadata": {},
   "source": [],
   "outputs": []
  },
  {
   "cell_type": "code",
   "execution_count": null,
   "id": "fc330fd4-ad27-48c9-9e26-e6ceed28d017",
   "metadata": {},
   "source": [],
   "outputs": []
  }
 ],
 "metadata": {
  "kernelspec": {
   "display_name": "Python 3 (ipykernel)",
   "language": "python",
   "name": "python3"
  },
  "language_info": {
   "codemirror_mode": {
    "name": "ipython",
    "version": 3
   },
   "file_extension": ".py",
   "mimetype": "text/x-python",
   "name": "python",
   "nbconvert_exporter": "python",
   "pygments_lexer": "ipython3",
   "version": "3.10.6"
  }
 },
 "nbformat": 4,
 "nbformat_minor": 5
}
