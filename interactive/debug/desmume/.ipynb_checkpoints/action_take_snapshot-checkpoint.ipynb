{
 "cells": [
  {
   "cell_type": "code",
   "execution_count": null,
   "id": "5350be73-e9de-47cd-85df-364711104ebe",
   "metadata": {},
   "outputs": [],
   "source": [
    "from dsrobo.config import Config, JobConfig"
   ]
  },
  {
   "cell_type": "code",
   "execution_count": null,
   "id": "1c201052-3322-4805-bd52-d53a900c09af",
   "metadata": {},
   "outputs": [],
   "source": [
    "from dsrobo.launcher.desmume import DeSmuMELauncher"
   ]
  },
  {
   "cell_type": "code",
   "execution_count": null,
   "id": "d5b601ba-d09a-4a1c-b39d-e2d630e0e86e",
   "metadata": {},
   "outputs": [],
   "source": [
    "from dsrobo.rom_loader.desmume import DeSmuMERomLoader"
   ]
  },
  {
   "cell_type": "code",
   "execution_count": null,
   "id": "918c7281-b11e-4bc0-8b8f-cf43808aaac3",
   "metadata": {},
   "outputs": [],
   "source": [
    "import dsrobo.utils"
   ]
  },
  {
   "cell_type": "code",
   "execution_count": null,
   "id": "a38cf6ec-8f7f-4419-972e-066d5e53e4aa",
   "metadata": {},
   "outputs": [],
   "source": [
    "import atomacos"
   ]
  },
  {
   "cell_type": "code",
   "execution_count": null,
   "id": "06998672-11a6-4d60-b8af-7e7db49b7406",
   "metadata": {},
   "outputs": [],
   "source": [
    "import time"
   ]
  },
  {
   "cell_type": "code",
   "execution_count": null,
   "id": "ab8c92e6-94dd-496a-9aaa-a6b140743e04",
   "metadata": {},
   "outputs": [],
   "source": []
  },
  {
   "cell_type": "code",
   "execution_count": null,
   "id": "a2f75291-9fae-4ea5-b49d-ef13b9c03ee5",
   "metadata": {},
   "outputs": [],
   "source": [
    "config = Config()"
   ]
  },
  {
   "cell_type": "code",
   "execution_count": null,
   "id": "e2e68da7-7088-4511-b902-de5d4b911760",
   "metadata": {},
   "outputs": [],
   "source": [
    "job_config = JobConfig.parse_obj({\"emulator_type\": \"nds\", \"rom_file_path\": \"/Users/archiba/Documents/archiba/nds/POKEMON_SS_IPGJ01_00.trim.nds\", \"actions\": []})"
   ]
  },
  {
   "cell_type": "code",
   "execution_count": null,
   "id": "77b50467-df66-4c4e-8caa-f318a192a61e",
   "metadata": {},
   "outputs": [],
   "source": [
    "launcher = DeSmuMELauncher()"
   ]
  },
  {
   "cell_type": "code",
   "execution_count": null,
   "id": "69269485-7b5f-4c9f-8094-acf83dd5a3a0",
   "metadata": {},
   "outputs": [],
   "source": [
    "rom_loader = DeSmuMERomLoader()"
   ]
  },
  {
   "cell_type": "code",
   "execution_count": null,
   "id": "508818ac-42e1-4078-9c80-6050711026ec",
   "metadata": {},
   "outputs": [],
   "source": [
    "application = launcher.launch(config)\n",
    "rom_loader.load_rom(application, config, job_config)"
   ]
  },
  {
   "cell_type": "code",
   "execution_count": null,
   "id": "f021bdab-7410-4bb3-b560-85c8e4e09c83",
   "metadata": {},
   "outputs": [],
   "source": [
    "application"
   ]
  },
  {
   "cell_type": "code",
   "execution_count": null,
   "id": "334820fe-34e8-45a8-a05c-bd4ee444f24d",
   "metadata": {},
   "outputs": [],
   "source": [
    "import pyautogui"
   ]
  },
  {
   "cell_type": "code",
   "execution_count": null,
   "id": "1cadcdaa-67ee-4097-961c-f8d93b4ad574",
   "metadata": {},
   "outputs": [],
   "source": [
    "from dsrobo.utils import *"
   ]
  },
  {
   "cell_type": "code",
   "execution_count": null,
   "id": "f347afd7-4761-4f2c-9dc5-ccf9cd88741a",
   "metadata": {},
   "outputs": [],
   "source": [
    "window = find_window_by_exact_name(application, 'POKEMON SS')"
   ]
  },
  {
   "cell_type": "code",
   "execution_count": null,
   "id": "73da094c-45df-4d0c-8cb6-880b4320ba2b",
   "metadata": {},
   "outputs": [],
   "source": [
    "window.AXFrame"
   ]
  },
  {
   "cell_type": "code",
   "execution_count": null,
   "id": "72e7cc51-8686-402d-86aa-f6e30fc0eef1",
   "metadata": {},
   "outputs": [],
   "source": [
    "response = pyautogui.screenshot('ss.png', window.AXFrame)"
   ]
  },
  {
   "cell_type": "code",
   "execution_count": null,
   "id": "59b340c9-9d3e-4ee5-9059-35d2d2b7dbf9",
   "metadata": {},
   "outputs": [],
   "source": [
    "window"
   ]
  },
  {
   "cell_type": "code",
   "execution_count": null,
   "id": "107e5373-7978-45fb-81ef-c7baf5158b5b",
   "metadata": {},
   "outputs": [],
   "source": [
    "application.AXMenuBar.AXChildren[4].AXIdentifier"
   ]
  },
  {
   "cell_type": "code",
   "execution_count": null,
   "id": "d0e4bbe2-5cf6-4964-ad95-860a97c0c608",
   "metadata": {},
   "outputs": [],
   "source": [
    "application.AXChildren[0].AXChildren[1].AXIdentifier"
   ]
  },
  {
   "cell_type": "code",
   "execution_count": null,
   "id": "b11b71d8-2b15-403c-ac0d-284270375f1a",
   "metadata": {},
   "outputs": [],
   "source": [
    "application.AXChildren[0].AXChildren[2].AXIdentifier"
   ]
  },
  {
   "cell_type": "code",
   "execution_count": null,
   "id": "abac2174-04a6-435c-940d-66043088a92b",
   "metadata": {},
   "outputs": [],
   "source": [
    "application.AXMenuBar.AXChildren[4].AXChildren[0]"
   ]
  },
  {
   "cell_type": "code",
   "execution_count": null,
   "id": "fd4824ab-55af-4bb2-b8f8-baea134f690e",
   "metadata": {},
   "outputs": [],
   "source": [
    "application.AXMenuBar.AXChildren[4].AXChildren[0]"
   ]
  },
  {
   "cell_type": "code",
   "execution_count": null,
   "id": "843ce100-a19e-4173-bb3e-85cafc382a7b",
   "metadata": {},
   "outputs": [],
   "source": [
    "application.AXMenuBar.AXChildren[4].AXChildren[0].AXChildren[7].AXPress()"
   ]
  },
  {
   "cell_type": "code",
   "execution_count": null,
   "id": "27a4b8a3-e52a-41be-9643-fd0524c8ddc6",
   "metadata": {},
   "outputs": [],
   "source": [
    "application.AXWindows"
   ]
  },
  {
   "cell_type": "code",
   "execution_count": null,
   "id": "dc01db48-98b2-46b8-b441-aa473f4df17b",
   "metadata": {},
   "outputs": [],
   "source": []
  }
 ],
 "metadata": {
  "kernelspec": {
   "display_name": "Python 3 (ipykernel)",
   "language": "python",
   "name": "python3"
  },
  "language_info": {
   "codemirror_mode": {
    "name": "ipython",
    "version": 3
   },
   "file_extension": ".py",
   "mimetype": "text/x-python",
   "name": "python",
   "nbconvert_exporter": "python",
   "pygments_lexer": "ipython3",
   "version": "3.10.6"
  }
 },
 "nbformat": 4,
 "nbformat_minor": 5
}
