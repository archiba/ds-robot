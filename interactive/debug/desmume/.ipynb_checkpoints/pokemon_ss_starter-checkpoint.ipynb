{
 "cells": [
  {
   "cell_type": "code",
   "execution_count": null,
   "id": "6917ffeb-bbb8-4c1a-8f9f-7a5512e6eb2d",
   "metadata": {},
   "outputs": [],
   "source": [
    "from dsrobo.config import Config, JobConfig"
   ]
  },
  {
   "cell_type": "code",
   "execution_count": null,
   "id": "d564df40-e0e3-480a-b427-6fd11f83f5b1",
   "metadata": {},
   "outputs": [],
   "source": [
    "from dsrobo.launcher.desmume import DeSmuMELauncher"
   ]
  },
  {
   "cell_type": "code",
   "execution_count": null,
   "id": "71e5af54-3ccb-4f3f-be5c-21e347fef4dc",
   "metadata": {},
   "outputs": [],
   "source": [
    "from dsrobo.rom_loader.desmume import DeSmuMERomLoader"
   ]
  },
  {
   "cell_type": "code",
   "execution_count": null,
   "id": "43e19faa-7a7e-4744-ba81-157c5c389bb2",
   "metadata": {},
   "outputs": [],
   "source": [
    "from dsrobo.job_actions.pipeline import JobActionPipelineBase"
   ]
  },
  {
   "cell_type": "code",
   "execution_count": null,
   "id": "eadcdcfe-dd5d-42e2-be29-ed77af6fc77b",
   "metadata": {},
   "outputs": [],
   "source": [
    "import dsrobo.utils"
   ]
  },
  {
   "cell_type": "code",
   "execution_count": null,
   "id": "e54f5fab-3e80-4721-afca-e69a421487f7",
   "metadata": {},
   "outputs": [],
   "source": [
    "import atomacos"
   ]
  },
  {
   "cell_type": "code",
   "execution_count": null,
   "id": "14863a5b-bc83-41c6-b7a1-bf6afeb21554",
   "metadata": {},
   "outputs": [],
   "source": [
    "import time"
   ]
  },
  {
   "cell_type": "code",
   "execution_count": null,
   "id": "7357ae0a-4617-48a8-9841-100272b1471d",
   "metadata": {},
   "outputs": [],
   "source": []
  },
  {
   "cell_type": "code",
   "execution_count": null,
   "id": "c6ac4ce7-013d-4781-aabb-207a01d03ca7",
   "metadata": {},
   "outputs": [],
   "source": [
    "config = Config(rom_directory=\"/Users/archiba/Documents/archiba/\")"
   ]
  },
  {
   "cell_type": "code",
   "execution_count": null,
   "id": "72796752-7992-443c-87b2-e266a3ac070d",
   "metadata": {},
   "outputs": [],
   "source": [
    "job_config = JobConfig.parse_file(\"../../../jobs/nds/POKEMON_SS/shiny_starter.json\")"
   ]
  },
  {
   "cell_type": "code",
   "execution_count": null,
   "id": "24af0809-6e32-471b-aeae-18921d521ba1",
   "metadata": {},
   "outputs": [],
   "source": [
    "launcher = DeSmuMELauncher()"
   ]
  },
  {
   "cell_type": "code",
   "execution_count": null,
   "id": "7a264077-15cb-4c5b-9ae3-a9386f6295ed",
   "metadata": {},
   "outputs": [],
   "source": [
    "rom_loader = DeSmuMERomLoader()"
   ]
  },
  {
   "cell_type": "code",
   "execution_count": null,
   "id": "850a2e80-7928-4874-acdc-e505d32d5d08",
   "metadata": {},
   "outputs": [],
   "source": [
    "application = launcher.launch(config)\n",
    "rom_loader.load_rom(application, config, job_config)"
   ]
  },
  {
   "cell_type": "code",
   "execution_count": null,
   "id": "100f155a-c5c8-4d37-8032-ab864ad3c88b",
   "metadata": {},
   "outputs": [],
   "source": [
    "pl = JobActionPipelineBase(config, job_config)"
   ]
  },
  {
   "cell_type": "code",
   "execution_count": null,
   "id": "e6bb0256-796d-4fa1-b6dd-6284e830f6d6",
   "metadata": {},
   "outputs": [],
   "source": [
    "pl.validate()"
   ]
  },
  {
   "cell_type": "code",
   "execution_count": null,
   "id": "6ee350cd-0a20-4018-86d1-c52d2eeae9bc",
   "metadata": {},
   "outputs": [],
   "source": [
    "pl(application)"
   ]
  },
  {
   "cell_type": "code",
   "execution_count": null,
   "id": "e83e308f-28dc-4a87-bd98-21d9e5c0cf15",
   "metadata": {},
   "outputs": [],
   "source": []
  },
  {
   "cell_type": "code",
   "execution_count": null,
   "id": "e737abe1-5361-4bda-8907-5defa436acf5",
   "metadata": {},
   "outputs": [],
   "source": [
    "from collections import OrderedDict\n",
    "from pathlib import Path\n",
    "from typing import Optional\n",
    "\n",
    "import cv2\n",
    "import numpy\n",
    "\n",
    "\n",
    "def assert_find(directory: Path, pattern: str):\n",
    "    found = list(directory.glob(pattern))\n",
    "    assert len(found) == 1\n",
    "    return found[0]\n",
    "\n",
    "\n",
    "def load_image(path: Path, interest_region: Optional[tuple[int, int, int, int]] = None) -> numpy.ndarray:\n",
    "    img = cv2.imread(str(path), cv2.IMREAD_COLOR)\n",
    "    if interest_region is not None:\n",
    "        x, y, w, h = interest_region\n",
    "        crop = img[y:y + h, x:x + w]\n",
    "        return crop\n",
    "    return img\n",
    "\n",
    "\n",
    "def load_images(job_dir: Path, iteration_job_no: int, image_job_no: int, image_name: str,\n",
    "                interest_region: Optional[tuple[int, int, int, int]] = None) -> dict[str, numpy.ndarray]:\n",
    "    iteration_job_dir = assert_find(job_dir, f\"{iteration_job_no}_*\")\n",
    "    image_files = {iter_dir.stem: assert_find(iter_dir, f\"{image_job_no}_*/{image_name}\")\n",
    "                   for iter_dir in iteration_job_dir.glob(\"*\") if iter_dir.is_dir()}\n",
    "    return {iter_no: load_image(iter_path, interest_region)\n",
    "            for iter_no, iter_path in image_files.items()}\n",
    "\n",
    "\n",
    "def dump_result(dest_root: Path, images: dict[str, numpy.ndarray], scores: OrderedDict) -> None:\n",
    "    n_imgs = len(images)\n",
    "    n_digits = len(str(n_imgs))\n",
    "    dest_root.mkdir(exist_ok=True, parents=True)\n",
    "    for i, (key, score) in enumerate(scores.items()):\n",
    "        dest_name = f\"{str(i).zfill(n_digits)}-{key}-{score}.png\"\n",
    "        dest_path = dest_root / dest_name\n",
    "        cv2.imwrite(str(dest_path), images[key])\n"
   ]
  },
  {
   "cell_type": "code",
   "execution_count": null,
   "id": "677dbec7-c20b-4271-803b-779ae28df284",
   "metadata": {},
   "outputs": [],
   "source": [
    "from pathlib import Path\n",
    "from typing import Optional, Type\n",
    "from collections import OrderedDict\n",
    "\n",
    "import cv2\n",
    "import numpy\n",
    "\n",
    "\n",
    "class AnomalyModel:\n",
    "    def fit(self, images: dict[str, numpy.ndarray]):\n",
    "        raise NotImplementedError()\n",
    "\n",
    "    def evaluate(self, image: numpy.ndarray):\n",
    "        raise NotImplementedError()\n",
    "\n",
    "\n",
    "class AbsSumAnomalyModel(AnomalyModel):\n",
    "    def __init__(self):\n",
    "        self.model = None\n",
    "\n",
    "    def fit(self, images: dict[str, numpy.ndarray]):\n",
    "        mean_img = numpy.mean(list(images.values()), axis=0, dtype='float32')\n",
    "        self.model = mean_img\n",
    "\n",
    "    def evaluate(self, image: numpy.ndarray):\n",
    "        assert image.shape == self.model.shape\n",
    "        abs_diff = numpy.abs(image - self.model)\n",
    "        abs_diff_sum = abs_diff.sum(axis=0).sum()\n",
    "        return abs_diff_sum\n",
    "\n",
    "\n",
    "class EvaluateAnomalyDetector(object):\n",
    "    def __init__(self, model_cls: Type[AnomalyModel] = AbsSumAnomalyModel):\n",
    "        self.model = model_cls()\n",
    "\n",
    "    def sample_img(self,\n",
    "                   images: dict[str, numpy.ndarray],\n",
    "                   dump_to: Optional[Path] = None):\n",
    "        key = list(images.keys())[0]\n",
    "        if dump_to is not None:\n",
    "            cv2.imwrite(str(dump_to), images[key])\n",
    "        return images[key]\n",
    "\n",
    "    def fit_model(self, images: dict[str, numpy.ndarray]):\n",
    "        self.model.fit(images)\n",
    "\n",
    "    def evaluate(self, images: dict[str, numpy.ndarray]):\n",
    "        results = {key: self.model.evaluate(image) for key, image in images.items()}\n",
    "        sorted_results = sorted(results.items(), key=lambda v: v[1], reverse=True)\n",
    "        od = OrderedDict()\n",
    "        for key, value in sorted_results:\n",
    "            od[key] = value\n",
    "        return od"
   ]
  },
  {
   "cell_type": "code",
   "execution_count": null,
   "id": "2860369e-01e3-4bf5-ad0e-a3d2c6b5ac41",
   "metadata": {},
   "outputs": [],
   "source": []
  },
  {
   "cell_type": "code",
   "execution_count": null,
   "id": "1aa39ff4-cf87-46ec-89d6-65e09e8fd225",
   "metadata": {},
   "outputs": [],
   "source": [
    "images = load_images(\n",
    "    Path(\"artifacts/POKEMON_SS_Shiny_starter-b10032b3-c36a-4556-99d0-a54a4add941b/\"),\n",
    "    0,\n",
    "    6,\n",
    "    'pk1.png',\n",
    "    interest_region=(275, 250, 200, 200)\n",
    ")"
   ]
  },
  {
   "cell_type": "code",
   "execution_count": null,
   "id": "f94fc538-def4-4427-a984-941192013d80",
   "metadata": {},
   "outputs": [],
   "source": [
    "anomaly_detector = EvaluateAnomalyDetector(AbsSumAnomalyModel)"
   ]
  },
  {
   "cell_type": "code",
   "execution_count": null,
   "id": "02d6d93d-3326-40df-a7df-f5fac0a9b089",
   "metadata": {},
   "outputs": [],
   "source": [
    "anomaly_detector.fit_model(images)"
   ]
  },
  {
   "cell_type": "code",
   "execution_count": null,
   "id": "725fb4e5-41c7-49f9-83d5-c4773f8c9068",
   "metadata": {},
   "outputs": [],
   "source": [
    "scores = anomaly_detector.evaluate(images)"
   ]
  },
  {
   "cell_type": "code",
   "execution_count": null,
   "id": "8c5b8285-1434-4984-bbb5-df05f927fb75",
   "metadata": {},
   "outputs": [],
   "source": [
    "dump_result(Path(\"6_pk1\"), images, scores)"
   ]
  },
  {
   "cell_type": "code",
   "execution_count": null,
   "id": "cf039eb6-4c29-4730-9c46-26cd6520ed3b",
   "metadata": {},
   "outputs": [],
   "source": []
  },
  {
   "cell_type": "code",
   "execution_count": null,
   "id": "dbfc64fc-86e7-4e50-99cd-7f7445f7c12c",
   "metadata": {},
   "outputs": [],
   "source": [
    "images = load_images(\n",
    "    Path(\"artifacts/POKEMON_SS_Shiny_starter-b10032b3-c36a-4556-99d0-a54a4add941b/\"),\n",
    "    0,\n",
    "    8,\n",
    "    'pk2.png',\n",
    "    interest_region=(275, 250, 200, 200)\n",
    ")"
   ]
  },
  {
   "cell_type": "code",
   "execution_count": null,
   "id": "575cbbd2-fc0e-4874-bfa3-463f1bc99f13",
   "metadata": {},
   "outputs": [],
   "source": [
    "anomaly_detector = EvaluateAnomalyDetector(AbsSumAnomalyModel)"
   ]
  },
  {
   "cell_type": "code",
   "execution_count": null,
   "id": "978624bc-aed1-4d68-9b22-6a75b04ee2a2",
   "metadata": {},
   "outputs": [],
   "source": [
    "anomaly_detector.fit_model(images)"
   ]
  },
  {
   "cell_type": "code",
   "execution_count": null,
   "id": "848bbb57-0c1b-49ca-8220-e3fb57b8e39d",
   "metadata": {},
   "outputs": [],
   "source": [
    "scores = anomaly_detector.evaluate(images)"
   ]
  },
  {
   "cell_type": "code",
   "execution_count": null,
   "id": "c4781db7-e718-4dc0-9b4a-e5dc35c44e12",
   "metadata": {},
   "outputs": [],
   "source": [
    "dump_result(Path(\"8_pk2\"), images, scores)"
   ]
  },
  {
   "cell_type": "code",
   "execution_count": null,
   "id": "26551004-5ddd-47bf-b26a-8e3f9ac1d908",
   "metadata": {},
   "outputs": [],
   "source": []
  },
  {
   "cell_type": "code",
   "execution_count": null,
   "id": "eff94833-af9e-45fd-9cd1-38d31ada7356",
   "metadata": {},
   "outputs": [],
   "source": [
    "images = load_images(\n",
    "    Path(\"artifacts/POKEMON_SS_Shiny_starter-b10032b3-c36a-4556-99d0-a54a4add941b/\"),\n",
    "    0,\n",
    "    10,\n",
    "    'pk3.png',\n",
    "    interest_region=(275, 250, 200, 200)\n",
    ")"
   ]
  },
  {
   "cell_type": "code",
   "execution_count": null,
   "id": "6c1e9d54-0cd1-4533-8daf-7924e50b0f1a",
   "metadata": {},
   "outputs": [],
   "source": [
    "anomaly_detector = EvaluateAnomalyDetector(AbsSumAnomalyModel)"
   ]
  },
  {
   "cell_type": "code",
   "execution_count": null,
   "id": "797870b3-ab83-45c3-9dbc-88d4f866f0bb",
   "metadata": {},
   "outputs": [],
   "source": [
    "anomaly_detector.fit_model(images)"
   ]
  },
  {
   "cell_type": "code",
   "execution_count": null,
   "id": "5244c1f1-a74d-425b-89c4-3c023e75ca7d",
   "metadata": {},
   "outputs": [],
   "source": [
    "scores = anomaly_detector.evaluate(images)"
   ]
  },
  {
   "cell_type": "code",
   "execution_count": null,
   "id": "6c81ef6c-2806-4bd3-b7f4-84432b297130",
   "metadata": {},
   "outputs": [],
   "source": [
    "dump_result(Path(\"10_pk3\"), images, scores)"
   ]
  },
  {
   "cell_type": "code",
   "execution_count": null,
   "id": "c83bfab7-8d6f-4cfe-8434-83fa2fc410b4",
   "metadata": {},
   "outputs": [],
   "source": []
  }
 ],
 "metadata": {
  "kernelspec": {
   "display_name": "Python 3 (ipykernel)",
   "language": "python",
   "name": "python3"
  },
  "language_info": {
   "codemirror_mode": {
    "name": "ipython",
    "version": 3
   },
   "file_extension": ".py",
   "mimetype": "text/x-python",
   "name": "python",
   "nbconvert_exporter": "python",
   "pygments_lexer": "ipython3",
   "version": "3.10.6"
  }
 },
 "nbformat": 4,
 "nbformat_minor": 5
}
