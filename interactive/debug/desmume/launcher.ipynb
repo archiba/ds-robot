{
 "cells": [
  {
   "cell_type": "code",
   "execution_count": null,
   "id": "initial_id",
   "metadata": {
    "ExecuteTime": {
     "end_time": "2024-03-17T08:28:40.332946Z",
     "start_time": "2024-03-17T08:28:40.328300Z"
    }
   },
   "source": [
    "APPLICATION_PATH = \"/Applications/DeSmuME.app\""
   ],
   "outputs": []
  },
  {
   "cell_type": "code",
   "execution_count": null,
   "id": "3e1ba704-f720-4722-b0f3-4cabdf79aad8",
   "metadata": {},
   "source": [
    "APPLICATION_BUNDLE_ID = \"org.desmume.DeSmuME\""
   ],
   "outputs": []
  },
  {
   "cell_type": "code",
   "execution_count": null,
   "id": "4d7d56fd-8c7e-45aa-a822-78ab8e114473",
   "metadata": {},
   "source": [
    "import atomacos"
   ],
   "outputs": []
  },
  {
   "cell_type": "code",
   "execution_count": null,
   "id": "b7577b5b-4325-4e9b-9ce6-bb778eb84cf3",
   "metadata": {},
   "source": [
    "application, error = atomacos.launchAppByBundlePath(APPLICATION_PATH)"
   ],
   "outputs": []
  },
  {
   "cell_type": "code",
   "execution_count": null,
   "id": "08cd19df-c610-413d-be49-0dfbb58406c6",
   "metadata": {},
   "source": [
    "type(application)"
   ],
   "outputs": []
  },
  {
   "cell_type": "code",
   "execution_count": null,
   "id": "c5409faf-d445-47af-8ea3-3045dd4ecee6",
   "metadata": {},
   "source": [
    "if error is not None:\n",
    "    raise ValueError(f\"Failed to launch the application {APPLICATION_PATH}\")"
   ],
   "outputs": []
  },
  {
   "cell_type": "code",
   "execution_count": null,
   "id": "0db93d28-9b8f-42c6-b983-e4188d99a412",
   "metadata": {},
   "source": [
    "bundle_id = application.bundleIdentifier()"
   ],
   "outputs": []
  },
  {
   "cell_type": "code",
   "execution_count": null,
   "id": "6996333e-76c8-4f2c-a4b3-192fb433c381",
   "metadata": {},
   "source": [
    "desmume_app = atomacos.getAppRefByBundleId(bundle_id)"
   ],
   "outputs": []
  },
  {
   "cell_type": "code",
   "execution_count": null,
   "id": "7b99f3a9-e89c-4bcb-94fa-ea2c20c24a0b",
   "metadata": {},
   "source": [
    "def print_ui_element(ui_element, n_indent=0):\n",
    "    indent = ''.join(['  ' for i in range(n_indent)])\n",
    "    class_name = type(ui_element).__name__\n",
    "    identifier = getattr(ui_element, 'AXIdentifier', '?')\n",
    "    main_role = getattr(ui_element, 'AXRole', '?')\n",
    "    sub_role = getattr(ui_element, 'AXSubrole', '?')\n",
    "    children = getattr(ui_element, 'AXChildren', [])\n",
    "    element_id = getattr(ui_element, 'AXIdentifier', '?')\n",
    "    value = getattr(ui_element, 'AXValue', '-')\n",
    "    print(f\"{indent}{element_id}=<{class_name}>{main_role}.{sub_role} : {value}\")\n",
    "    for child in children:\n",
    "        print_ui_element(child, n_indent + 1)"
   ],
   "outputs": []
  },
  {
   "cell_type": "code",
   "execution_count": null,
   "id": "333fc174-1db2-413d-8b73-9098cc75f0dc",
   "metadata": {},
   "source": [
    "def center(cg_rect):\n",
    "    return \\\n",
    "        (cg_rect.x + cg_rect.width / 2,\n",
    "         cg_rect.y + cg_rect.height / 2)"
   ],
   "outputs": []
  },
  {
   "cell_type": "code",
   "execution_count": null,
   "id": "206e3f76-627a-4879-91c7-c01456ceedaf",
   "metadata": {},
   "source": [
    "desmume_app.AXMainWindow.AXChildren[-1].AXValue"
   ],
   "outputs": []
  },
  {
   "cell_type": "code",
   "execution_count": null,
   "id": "033fa530-e761-4bdc-8e21-8f54a0408cdd",
   "metadata": {},
   "source": [
    "desmume_app"
   ],
   "outputs": []
  },
  {
   "cell_type": "code",
   "execution_count": null,
   "id": "6bc8e0e2-7b10-49a2-b688-bdeb51330400",
   "metadata": {},
   "source": [
    "e = desmume_app.AXMenuBar.AXChildren[0]"
   ],
   "outputs": []
  },
  {
   "cell_type": "code",
   "execution_count": null,
   "id": "0fa51a92-547e-4741-b92f-be4f5efb5361",
   "metadata": {},
   "source": [
    "import time"
   ],
   "outputs": []
  },
  {
   "cell_type": "code",
   "execution_count": null,
   "id": "9956c081-f0b6-4fbf-b0b5-f829e5d07499",
   "metadata": {},
   "source": [
    "time.sleep(3)\n",
    "desmume_app.AXMainWindow.AXRaise()\n",
    "atomacos.mouse.click(center(desmume_app.AXMainWindow.AXFrame))\n",
    "time.sleep(1)\n",
    "desmume_app.AXMenuBar.AXChildren[1].AXPress()"
   ],
   "outputs": []
  },
  {
   "cell_type": "code",
   "execution_count": null,
   "id": "02dd5d42-9a1b-46f4-92eb-7a4b1020a882",
   "metadata": {},
   "source": [
    "desmume_app.AXWindows[0].AXFocused"
   ],
   "outputs": []
  },
  {
   "cell_type": "code",
   "execution_count": null,
   "id": "a8c7c0ba-29d8-481e-a366-a56ff5ab9d98",
   "metadata": {},
   "source": [
    "print_ui_element(desmume_app.AXMenuBar.AXChildren[0].AXChildren[0])"
   ],
   "outputs": []
  },
  {
   "cell_type": "code",
   "execution_count": null,
   "id": "931521a4-13a2-44fc-9132-a2120266316d",
   "metadata": {},
   "source": [
    "def print_ui_elements(element, indent=0):\n",
    "    print(' ' * indent, element.getAttributes()['AXTitle'], \":\", element.role)\n",
    "    for child in element.children():\n",
    "        print_ui_elements(child, indent + 2)"
   ],
   "outputs": []
  },
  {
   "cell_type": "code",
   "execution_count": null,
   "id": "a3a9f060-b956-4e4a-b209-70a87e03b029",
   "metadata": {},
   "source": [
    "application[0]"
   ],
   "outputs": []
  },
  {
   "cell_type": "code",
   "execution_count": null,
   "id": "f2a3e9d3-3c7a-45d6-82a1-5a3352fabe46",
   "metadata": {},
   "source": [],
   "outputs": []
  },
  {
   "cell_type": "code",
   "execution_count": null,
   "id": "2ac56e8b5255454d",
   "metadata": {
    "ExecuteTime": {
     "end_time": "2024-03-17T08:32:55.139946Z",
     "start_time": "2024-03-17T08:32:55.127996Z"
    },
    "collapsed": false,
    "jupyter": {
     "outputs_hidden": false
    }
   },
   "source": [
    "import pyautogui"
   ],
   "outputs": []
  },
  {
   "cell_type": "code",
   "execution_count": null,
   "id": "2f6205aeeb5d8c81",
   "metadata": {
    "collapsed": false,
    "jupyter": {
     "outputs_hidden": false
    }
   },
   "source": [
    "pyautogui."
   ],
   "outputs": []
  }
 ],
 "metadata": {
  "kernelspec": {
   "display_name": "Python 3 (ipykernel)",
   "language": "python",
   "name": "python3"
  },
  "language_info": {
   "codemirror_mode": {
    "name": "ipython",
    "version": 3
   },
   "file_extension": ".py",
   "mimetype": "text/x-python",
   "name": "python",
   "nbconvert_exporter": "python",
   "pygments_lexer": "ipython3",
   "version": "3.10.6"
  }
 },
 "nbformat": 4,
 "nbformat_minor": 5
}
