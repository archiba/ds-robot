{
 "cells": [
  {
   "cell_type": "code",
   "execution_count": null,
   "id": "5350be73-e9de-47cd-85df-364711104ebe",
   "metadata": {},
   "source": [
    "from dsrobo.config import Config, JobConfig"
   ],
   "outputs": []
  },
  {
   "cell_type": "code",
   "execution_count": null,
   "id": "1c201052-3322-4805-bd52-d53a900c09af",
   "metadata": {},
   "source": [
    "from dsrobo.launcher.desmume import DeSmuMELauncher"
   ],
   "outputs": []
  },
  {
   "cell_type": "code",
   "execution_count": null,
   "id": "d5b601ba-d09a-4a1c-b39d-e2d630e0e86e",
   "metadata": {},
   "source": [
    "from dsrobo.rom_loader.desmume import DeSmuMERomLoader"
   ],
   "outputs": []
  },
  {
   "cell_type": "code",
   "execution_count": null,
   "id": "918c7281-b11e-4bc0-8b8f-cf43808aaac3",
   "metadata": {},
   "source": [
    "import dsrobo.utils"
   ],
   "outputs": []
  },
  {
   "cell_type": "code",
   "execution_count": null,
   "id": "a38cf6ec-8f7f-4419-972e-066d5e53e4aa",
   "metadata": {},
   "source": [
    "import atomacos"
   ],
   "outputs": []
  },
  {
   "cell_type": "code",
   "execution_count": null,
   "id": "06998672-11a6-4d60-b8af-7e7db49b7406",
   "metadata": {},
   "source": [
    "import time"
   ],
   "outputs": []
  },
  {
   "cell_type": "code",
   "execution_count": null,
   "id": "ab8c92e6-94dd-496a-9aaa-a6b140743e04",
   "metadata": {},
   "source": [],
   "outputs": []
  },
  {
   "cell_type": "code",
   "execution_count": null,
   "id": "a2f75291-9fae-4ea5-b49d-ef13b9c03ee5",
   "metadata": {},
   "source": [
    "config = Config()"
   ],
   "outputs": []
  },
  {
   "cell_type": "code",
   "execution_count": null,
   "id": "e2e68da7-7088-4511-b902-de5d4b911760",
   "metadata": {},
   "source": [
    "job_config = JobConfig.parse_obj({\"emulator_type\": \"nds\", \"rom_file_path\": \"/Users/archiba/Documents/archiba/nds/POKEMON_SS_IPGJ01_00.trim.nds\", \"actions\": []})"
   ],
   "outputs": []
  },
  {
   "cell_type": "code",
   "execution_count": null,
   "id": "77b50467-df66-4c4e-8caa-f318a192a61e",
   "metadata": {},
   "source": [
    "launcher = DeSmuMELauncher()"
   ],
   "outputs": []
  },
  {
   "cell_type": "code",
   "execution_count": null,
   "id": "69269485-7b5f-4c9f-8094-acf83dd5a3a0",
   "metadata": {},
   "source": [
    "rom_loader = DeSmuMERomLoader()"
   ],
   "outputs": []
  },
  {
   "cell_type": "code",
   "execution_count": null,
   "id": "508818ac-42e1-4078-9c80-6050711026ec",
   "metadata": {},
   "source": [
    "application = launcher.launch(config)\n",
    "rom_loader.load_rom(application, config, job_config)"
   ],
   "outputs": []
  },
  {
   "cell_type": "code",
   "execution_count": null,
   "id": "f021bdab-7410-4bb3-b560-85c8e4e09c83",
   "metadata": {},
   "source": [
    "application"
   ],
   "outputs": []
  },
  {
   "cell_type": "code",
   "execution_count": null,
   "id": "334820fe-34e8-45a8-a05c-bd4ee444f24d",
   "metadata": {},
   "source": [
    "import pyautogui"
   ],
   "outputs": []
  },
  {
   "cell_type": "code",
   "execution_count": null,
   "id": "1cadcdaa-67ee-4097-961c-f8d93b4ad574",
   "metadata": {},
   "source": [
    "from dsrobo.utils import *"
   ],
   "outputs": []
  },
  {
   "cell_type": "code",
   "execution_count": null,
   "id": "f347afd7-4761-4f2c-9dc5-ccf9cd88741a",
   "metadata": {},
   "source": [
    "window = find_window_by_exact_name(application, 'POKEMON SS')"
   ],
   "outputs": []
  },
  {
   "cell_type": "code",
   "execution_count": null,
   "id": "73da094c-45df-4d0c-8cb6-880b4320ba2b",
   "metadata": {},
   "source": [
    "window.AXFrame"
   ],
   "outputs": []
  },
  {
   "cell_type": "code",
   "execution_count": null,
   "id": "72e7cc51-8686-402d-86aa-f6e30fc0eef1",
   "metadata": {},
   "source": [
    "response = pyautogui.screenshot('ss.png', window.AXFrame)"
   ],
   "outputs": []
  },
  {
   "cell_type": "code",
   "execution_count": null,
   "id": "59b340c9-9d3e-4ee5-9059-35d2d2b7dbf9",
   "metadata": {},
   "source": [
    "window"
   ],
   "outputs": []
  },
  {
   "cell_type": "code",
   "execution_count": null,
   "id": "107e5373-7978-45fb-81ef-c7baf5158b5b",
   "metadata": {},
   "source": [
    "application.AXMenuBar.AXChildren[4].AXIdentifier"
   ],
   "outputs": []
  },
  {
   "cell_type": "code",
   "execution_count": null,
   "id": "d0e4bbe2-5cf6-4964-ad95-860a97c0c608",
   "metadata": {},
   "source": [
    "application.AXChildren[0].AXChildren[1].AXIdentifier"
   ],
   "outputs": []
  },
  {
   "cell_type": "code",
   "execution_count": null,
   "id": "b11b71d8-2b15-403c-ac0d-284270375f1a",
   "metadata": {},
   "source": [
    "application.AXChildren[0].AXChildren[2].AXIdentifier"
   ],
   "outputs": []
  },
  {
   "cell_type": "code",
   "execution_count": null,
   "id": "abac2174-04a6-435c-940d-66043088a92b",
   "metadata": {},
   "source": [
    "application.AXMenuBar.AXChildren[4].AXChildren[0]"
   ],
   "outputs": []
  },
  {
   "cell_type": "code",
   "execution_count": null,
   "id": "fd4824ab-55af-4bb2-b8f8-baea134f690e",
   "metadata": {},
   "source": [
    "application.AXMenuBar.AXChildren[4].AXChildren[0]"
   ],
   "outputs": []
  },
  {
   "cell_type": "code",
   "execution_count": null,
   "id": "843ce100-a19e-4173-bb3e-85cafc382a7b",
   "metadata": {},
   "source": [
    "application.AXMenuBar.AXChildren[4].AXChildren[0].AXChildren[7].AXPress()"
   ],
   "outputs": []
  },
  {
   "cell_type": "code",
   "execution_count": null,
   "id": "27a4b8a3-e52a-41be-9643-fd0524c8ddc6",
   "metadata": {},
   "source": [
    "application.AXWindows"
   ],
   "outputs": []
  },
  {
   "cell_type": "code",
   "execution_count": null,
   "id": "dc01db48-98b2-46b8-b441-aa473f4df17b",
   "metadata": {},
   "source": [],
   "outputs": []
  }
 ],
 "metadata": {
  "kernelspec": {
   "display_name": "Python 3 (ipykernel)",
   "language": "python",
   "name": "python3"
  },
  "language_info": {
   "codemirror_mode": {
    "name": "ipython",
    "version": 3
   },
   "file_extension": ".py",
   "mimetype": "text/x-python",
   "name": "python",
   "nbconvert_exporter": "python",
   "pygments_lexer": "ipython3",
   "version": "3.10.6"
  }
 },
 "nbformat": 4,
 "nbformat_minor": 5
}
