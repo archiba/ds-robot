{
 "cells": [
  {
   "metadata": {
    "ExecuteTime": {
     "end_time": "2024-05-11T02:41:13.975517Z",
     "start_time": "2024-05-11T02:41:13.929803Z"
    }
   },
   "cell_type": "code",
   "source": "from dsrobo.config import Config, JobConfig",
   "id": "29a7069250eaabb2",
   "outputs": [],
   "execution_count": 1
  },
  {
   "metadata": {
    "ExecuteTime": {
     "end_time": "2024-05-11T02:41:15.490188Z",
     "start_time": "2024-05-11T02:41:15.487112Z"
    }
   },
   "cell_type": "code",
   "source": "config = Config()",
   "id": "4721ec279f986d01",
   "outputs": [],
   "execution_count": 3
  },
  {
   "metadata": {
    "ExecuteTime": {
     "end_time": "2024-05-11T02:41:15.791605Z",
     "start_time": "2024-05-11T02:41:15.789033Z"
    }
   },
   "cell_type": "code",
   "source": "job_config = JobConfig(rom_file_path=\"/home/archiba/Downloads/POKEMON_B_IRBJ01_00.trim.nds\", actions=[], emulator_type='nds')",
   "id": "dd61bb6b75888251",
   "outputs": [],
   "execution_count": 4
  },
  {
   "metadata": {
    "ExecuteTime": {
     "end_time": "2024-05-11T02:41:16.319474Z",
     "start_time": "2024-05-11T02:41:16.235206Z"
    }
   },
   "cell_type": "code",
   "source": [
    "from dsrobo.launcher.desmume.linux_gtk import DeSmuMELauncher\n",
    "from dsrobo.rom_loader.desmume.linux_gtk import DeSmuMERomLoader"
   ],
   "id": "40ead49b0bff9814",
   "outputs": [],
   "execution_count": 5
  },
  {
   "metadata": {
    "ExecuteTime": {
     "end_time": "2024-05-11T02:41:25.067872Z",
     "start_time": "2024-05-11T02:41:16.977320Z"
    }
   },
   "cell_type": "code",
   "source": [
    "launcher = DeSmuMELauncher()\n",
    "application = launcher.launch(config)\n",
    "rom_loader = DeSmuMERomLoader()\n",
    "rom_loader.load_rom(application, config, job_config)"
   ],
   "id": "af93b07daf328e0d",
   "outputs": [
    {
     "name": "stderr",
     "output_type": "stream",
     "text": [
      "Gtk-Message: 11:41:17.587: Failed to load module \"canberra-gtk-module\"\n",
      "Gtk-Message: 11:41:17.589: Failed to load module \"canberra-gtk-module\"\n",
      "Using 32 threads for video filter.\n"
     ]
    }
   ],
   "execution_count": 6
  },
  {
   "metadata": {
    "ExecuteTime": {
     "end_time": "2024-05-10T18:06:39.395922Z",
     "start_time": "2024-05-10T18:06:35.323233Z"
    }
   },
   "cell_type": "code",
   "source": "",
   "id": "fa296df7acdeb7a7",
   "outputs": [
    {
     "name": "stderr",
     "output_type": "stream",
     "text": [
      "Gtk-Message: 03:06:35.545: Failed to load module \"canberra-gtk-module\"\n",
      "Gtk-Message: 03:06:35.545: Failed to load module \"canberra-gtk-module\"\n",
      "Using 32 threads for video filter.\n"
     ]
    },
    {
     "data": {
      "text/plain": [
       "<Atspi.Accessible object at 0x7ed8f2f4c7c0 (AtspiAccessible at 0x2605b40)>"
      ]
     },
     "execution_count": 5,
     "metadata": {},
     "output_type": "execute_result"
    }
   ],
   "execution_count": 5
  },
  {
   "metadata": {
    "ExecuteTime": {
     "end_time": "2024-05-10T17:51:11.147273Z",
     "start_time": "2024-05-10T17:51:11.145680Z"
    }
   },
   "cell_type": "code",
   "source": "",
   "id": "6afe17d2d42a89a2",
   "outputs": [],
   "execution_count": 5
  },
  {
   "metadata": {},
   "cell_type": "code",
   "outputs": [],
   "execution_count": null,
   "source": "",
   "id": "8425daacd6e6028a"
  }
 ],
 "metadata": {
  "kernelspec": {
   "display_name": "Python 3",
   "language": "python",
   "name": "python3"
  },
  "language_info": {
   "codemirror_mode": {
    "name": "ipython",
    "version": 2
   },
   "file_extension": ".py",
   "mimetype": "text/x-python",
   "name": "python",
   "nbconvert_exporter": "python",
   "pygments_lexer": "ipython2",
   "version": "2.7.6"
  }
 },
 "nbformat": 4,
 "nbformat_minor": 5
}
