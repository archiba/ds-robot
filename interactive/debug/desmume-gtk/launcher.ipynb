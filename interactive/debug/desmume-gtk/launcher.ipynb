{
 "cells": [
  {
   "cell_type": "code",
   "id": "initial_id",
   "metadata": {
    "collapsed": true,
    "ExecuteTime": {
     "end_time": "2024-05-10T17:12:13.445819Z",
     "start_time": "2024-05-10T17:12:13.440689Z"
    }
   },
   "source": "APPLICATION_PATH = \"/usr/bin/flatpak run --branch=stable --arch=x86_64 --command=desmume org.desmume.DeSmuME\"",
   "outputs": [],
   "execution_count": 246
  },
  {
   "metadata": {
    "ExecuteTime": {
     "end_time": "2024-05-10T17:12:13.624643Z",
     "start_time": "2024-05-10T17:12:13.620603Z"
    }
   },
   "cell_type": "code",
   "source": "APPLICATION_NAME = \"desmume\"",
   "id": "a0b59cc8de2943c4",
   "outputs": [],
   "execution_count": 247
  },
  {
   "metadata": {
    "ExecuteTime": {
     "end_time": "2024-05-10T17:31:39.210821Z",
     "start_time": "2024-05-10T17:31:39.209148Z"
    }
   },
   "cell_type": "code",
   "source": "MAIN_WINDOW_TITLE = \"desmume.DeSmuME\"",
   "id": "79401df74493d1e0",
   "outputs": [],
   "execution_count": 304
  },
  {
   "metadata": {
    "ExecuteTime": {
     "end_time": "2024-05-10T17:12:13.794414Z",
     "start_time": "2024-05-10T17:12:13.790828Z"
    }
   },
   "cell_type": "code",
   "source": "from subprocess import Popen",
   "id": "be7c12d97dc49fa2",
   "outputs": [],
   "execution_count": 248
  },
  {
   "metadata": {
    "ExecuteTime": {
     "end_time": "2024-05-10T17:12:13.954691Z",
     "start_time": "2024-05-10T17:12:13.951384Z"
    }
   },
   "cell_type": "code",
   "source": "command = APPLICATION_PATH.split(' ')",
   "id": "7810230114ecff6f",
   "outputs": [],
   "execution_count": 249
  },
  {
   "metadata": {
    "ExecuteTime": {
     "end_time": "2024-05-10T17:25:13.227213Z",
     "start_time": "2024-05-10T17:25:13.224937Z"
    }
   },
   "cell_type": "code",
   "source": "application = Popen(command)",
   "id": "bd0172f9a44358cd",
   "outputs": [],
   "execution_count": 283
  },
  {
   "metadata": {
    "ExecuteTime": {
     "end_time": "2024-05-10T17:24:09.249328Z",
     "start_time": "2024-05-10T17:24:09.246422Z"
    }
   },
   "cell_type": "code",
   "source": "import pyatspi",
   "id": "c92d6a6caee4339b",
   "outputs": [],
   "execution_count": 273
  },
  {
   "metadata": {
    "ExecuteTime": {
     "end_time": "2024-05-10T17:24:09.521989Z",
     "start_time": "2024-05-10T17:24:09.516784Z"
    }
   },
   "cell_type": "code",
   "source": [
    "def find_application(application_name: str):\n",
    "    registry = pyatspi.Registry()\n",
    "    desktop_count = registry.getDesktopCount()\n",
    "    for desktop_i in range(desktop_count):\n",
    "        desktop = registry.getDesktop(desktop_i)\n",
    "        for app in desktop:\n",
    "            print(app.name)\n",
    "        for app in desktop:\n",
    "            if app.name == application_name:\n",
    "                return app\n",
    "    raise KeyError(application_name)"
   ],
   "id": "522ed402cc8c67e8",
   "outputs": [],
   "execution_count": 274
  },
  {
   "metadata": {
    "ExecuteTime": {
     "end_time": "2024-05-10T17:26:12.162716Z",
     "start_time": "2024-05-10T17:26:12.149018Z"
    }
   },
   "cell_type": "code",
   "source": "app = find_application(APPLICATION_NAME)",
   "id": "6ab1a843b37f5e3f",
   "outputs": [
    {
     "name": "stdout",
     "output_type": "stream",
     "text": [
      "gnome-shell\n",
      "gsd-keyboard\n",
      "gsd-color\n",
      "gsd-media-keys\n",
      "gsd-wacom\n",
      "gsd-power\n",
      "ibus-x11\n",
      "ibus-extension-gtk3\n",
      "evolution-alarm-notify\n",
      "gsd-xsettings\n",
      "xdg-desktop-portal-gtk\n",
      "update-notifier\n",
      "mutter-x11-frames\n",
      "gjs\n",
      "gnome-terminal-server\n",
      "org.gnome.Nautilus\n",
      "xdg-desktop-portal-gnome\n",
      "xdg-desktop-portal-gnome\n",
      "desmume\n"
     ]
    }
   ],
   "execution_count": 292
  },
  {
   "metadata": {
    "ExecuteTime": {
     "end_time": "2024-05-10T17:24:30.442604Z",
     "start_time": "2024-05-10T17:24:30.440037Z"
    }
   },
   "cell_type": "code",
   "source": [
    "def recursively_show_content(accessible: pyatspi.Accessible, prefix: str=\"\"):\n",
    "    print(prefix, \"id:\", accessible.accessibleId, \"role:\", accessible.getRoleName(), \"name:\", accessible.name, \"attrs:\", accessible.getAttributes())\n",
    "    for child in accessible:\n",
    "        recursively_show_content(child, prefix=prefix + \"--\")"
   ],
   "id": "1af67aba7c6c7a96",
   "outputs": [],
   "execution_count": 279
  },
  {
   "metadata": {
    "ExecuteTime": {
     "end_time": "2024-05-10T17:24:42.177383Z",
     "start_time": "2024-05-10T17:24:32.842657Z"
    }
   },
   "cell_type": "code",
   "source": "recursively_show_content(app)",
   "id": "3a06d21ed710d97e",
   "outputs": [
    {
     "name": "stdout",
     "output_type": "stream",
     "text": [
      " id:  role: application name: desmume attrs: []\n",
      "-- id:  role: frame name: DeSmuME - 60fps, 0 skipped, draw: 58fps attrs: ['toolkit:gtk', 'window-type:normal']\n",
      "---- id:  role: filler name:  attrs: ['toolkit:gtk']\n"
     ]
    },
    {
     "name": "stderr",
     "output_type": "stream",
     "text": [
      "\n",
      "** (desmume:2): WARNING **: 02:24:33.100: atk-bridge: get_device_events_reply: unknown signature\n"
     ]
    },
    {
     "name": "stdout",
     "output_type": "stream",
     "text": [
      "------ id:  role: filler name:  attrs: ['toolkit:gtk']\n",
      "-------- id:  role: panel name:  attrs: ['toolkit:gtk']\n",
      "---------- id:  role: push button name: Open attrs: ['toolkit:gtk']\n",
      "-------- id:  role: panel name:  attrs: ['toolkit:gtk']\n",
      "---------- id:  role: push button name: Run attrs: ['toolkit:gtk']\n",
      "-------- id:  role: panel name:  attrs: ['toolkit:gtk']\n",
      "---------- id:  role: push button name: Pause attrs: ['toolkit:gtk']\n",
      "-------- id:  role: panel name:  attrs: ['toolkit:gtk']\n",
      "---------- id:  role: push button name: Quit attrs: ['toolkit:gtk']\n",
      "------ id:  role: filler name:  attrs: ['toolkit:gtk']\n",
      "-------- id:  role: drawing area name:  attrs: ['toolkit:gtk']\n",
      "-------- id:  role: status bar name: Running ... attrs: ['toolkit:gtk']\n",
      "---- id:  role: menu bar name:  attrs: ['toolkit:gtk']\n",
      "------ id:  role: menu name: File attrs: ['toolkit:gtk']\n",
      "-------- id:  role: menu item name: Open attrs: ['toolkit:gtk']\n",
      "-------- id:  role: menu name: Open recent attrs: ['toolkit:gtk']\n",
      "---------- id:  role: menu item name: POKEMONBIRBJ0100.trim.nds attrs: ['toolkit:gtk']\n",
      "-------- id:  role: separator name:  attrs: ['toolkit:gtk']\n",
      "-------- id:  role: menu item name: Run attrs: ['toolkit:gtk']\n",
      "-------- id:  role: menu item name: Pause attrs: ['toolkit:gtk']\n",
      "-------- id:  role: menu item name: Reset attrs: ['toolkit:gtk']\n",
      "-------- id:  role: separator name:  attrs: ['toolkit:gtk']\n",
      "-------- id:  role: menu item name: Save state to… attrs: ['toolkit:gtk']\n",
      "-------- id:  role: menu item name: Load state from… attrs: ['toolkit:gtk']\n",
      "-------- id:  role: menu name: Save state attrs: ['toolkit:gtk']\n",
      "---------- id:  role: menu item name: 1 attrs: ['toolkit:gtk']\n",
      "---------- id:  role: menu item name: 2 attrs: ['toolkit:gtk']\n",
      "---------- id:  role: menu item name: 3 attrs: ['toolkit:gtk']\n",
      "---------- id:  role: menu item name: 4 attrs: ['toolkit:gtk']\n",
      "---------- id:  role: menu item name: 5 attrs: ['toolkit:gtk']\n",
      "---------- id:  role: menu item name: 6 attrs: ['toolkit:gtk']\n",
      "---------- id:  role: menu item name: 7 attrs: ['toolkit:gtk']\n",
      "---------- id:  role: menu item name: 8 attrs: ['toolkit:gtk']\n",
      "---------- id:  role: menu item name: 9 attrs: ['toolkit:gtk']\n",
      "---------- id:  role: menu item name: 0 attrs: ['toolkit:gtk']\n",
      "-------- id:  role: menu name: Load state attrs: ['toolkit:gtk']\n",
      "---------- id:  role: menu item name: 1 attrs: ['toolkit:gtk']\n",
      "---------- id:  role: menu item name: 2 attrs: ['toolkit:gtk']\n",
      "---------- id:  role: menu item name: 3 attrs: ['toolkit:gtk']\n",
      "---------- id:  role: menu item name: 4 attrs: ['toolkit:gtk']\n",
      "---------- id:  role: menu item name: 5 attrs: ['toolkit:gtk']\n",
      "---------- id:  role: menu item name: 6 attrs: ['toolkit:gtk']\n",
      "---------- id:  role: menu item name: 7 attrs: ['toolkit:gtk']\n",
      "---------- id:  role: menu item name: 8 attrs: ['toolkit:gtk']\n",
      "---------- id:  role: menu item name: 9 attrs: ['toolkit:gtk']\n",
      "---------- id:  role: menu item name: 0 attrs: ['toolkit:gtk']\n",
      "-------- id:  role: separator name:  attrs: ['toolkit:gtk']\n",
      "-------- id:  role: menu item name: Import backup memory… attrs: ['toolkit:gtk']\n",
      "-------- id:  role: menu item name: Export backup memory… attrs: ['toolkit:gtk']\n",
      "-------- id:  role: separator name:  attrs: ['toolkit:gtk']\n",
      "-------- id:  role: menu item name: Record movie to… attrs: ['toolkit:gtk']\n",
      "-------- id:  role: menu item name: Play movie from… attrs: ['toolkit:gtk']\n",
      "-------- id:  role: menu item name: Stop movie attrs: ['toolkit:gtk']\n",
      "-------- id:  role: separator name:  attrs: ['toolkit:gtk']\n",
      "-------- id:  role: menu name: Record video/audio attrs: ['toolkit:gtk']\n",
      "---------- id:  role: menu item name: Record lossless H.264 (video only)… attrs: ['toolkit:gtk']\n",
      "---------- id:  role: menu item name: Record FLAC (audio only)… attrs: ['toolkit:gtk']\n",
      "---------- id:  role: menu item name: Stop recording attrs: ['toolkit:gtk']\n",
      "-------- id:  role: menu item name: Take a screenshot attrs: ['toolkit:gtk']\n",
      "-------- id:  role: separator name:  attrs: ['toolkit:gtk']\n",
      "-------- id:  role: menu item name: Quit attrs: ['toolkit:gtk']\n",
      "------ id:  role: menu name: View attrs: ['toolkit:gtk']\n",
      "-------- id:  role: menu name: LCDs Layout attrs: ['toolkit:gtk']\n",
      "---------- id:  role: radio menu item name: Vertical attrs: ['toolkit:gtk']\n",
      "---------- id:  role: radio menu item name: Horizontal attrs: ['toolkit:gtk']\n",
      "---------- id:  role: radio menu item name: Single screen attrs: ['toolkit:gtk']\n",
      "---------- id:  role: separator name:  attrs: ['toolkit:gtk']\n",
      "---------- id:  role: check menu item name: Swap screens attrs: ['toolkit:gtk']\n",
      "-------- id:  role: menu name: Rotation attrs: ['toolkit:gtk']\n",
      "---------- id:  role: radio menu item name: 0° attrs: ['toolkit:gtk']\n",
      "---------- id:  role: radio menu item name: 90° attrs: ['toolkit:gtk']\n",
      "---------- id:  role: radio menu item name: 180° attrs: ['toolkit:gtk']\n",
      "---------- id:  role: radio menu item name: 270° attrs: ['toolkit:gtk']\n",
      "-------- id:  role: menu name: Window Size attrs: ['toolkit:gtk']\n",
      "---------- id:  role: radio menu item name: 0.5× attrs: ['toolkit:gtk']\n",
      "---------- id:  role: radio menu item name: 1× attrs: ['toolkit:gtk']\n",
      "---------- id:  role: radio menu item name: 1.5× attrs: ['toolkit:gtk']\n",
      "---------- id:  role: radio menu item name: 2× attrs: ['toolkit:gtk']\n",
      "---------- id:  role: radio menu item name: 2.5× attrs: ['toolkit:gtk']\n",
      "---------- id:  role: radio menu item name: 3× attrs: ['toolkit:gtk']\n"
     ]
    },
    {
     "ename": "KeyboardInterrupt",
     "evalue": "",
     "output_type": "error",
     "traceback": [
      "\u001B[0;31m---------------------------------------------------------------------------\u001B[0m",
      "\u001B[0;31mKeyboardInterrupt\u001B[0m                         Traceback (most recent call last)",
      "Cell \u001B[0;32mIn[280], line 1\u001B[0m\n\u001B[0;32m----> 1\u001B[0m \u001B[43mrecursively_show_content\u001B[49m\u001B[43m(\u001B[49m\u001B[43mapp\u001B[49m\u001B[43m)\u001B[49m\n",
      "Cell \u001B[0;32mIn[279], line 4\u001B[0m, in \u001B[0;36mrecursively_show_content\u001B[0;34m(accessible, prefix)\u001B[0m\n\u001B[1;32m      2\u001B[0m \u001B[38;5;28mprint\u001B[39m(prefix, \u001B[38;5;124m\"\u001B[39m\u001B[38;5;124mid:\u001B[39m\u001B[38;5;124m\"\u001B[39m, accessible\u001B[38;5;241m.\u001B[39maccessibleId, \u001B[38;5;124m\"\u001B[39m\u001B[38;5;124mrole:\u001B[39m\u001B[38;5;124m\"\u001B[39m, accessible\u001B[38;5;241m.\u001B[39mgetRoleName(), \u001B[38;5;124m\"\u001B[39m\u001B[38;5;124mname:\u001B[39m\u001B[38;5;124m\"\u001B[39m, accessible\u001B[38;5;241m.\u001B[39mname, \u001B[38;5;124m\"\u001B[39m\u001B[38;5;124mattrs:\u001B[39m\u001B[38;5;124m\"\u001B[39m, accessible\u001B[38;5;241m.\u001B[39mgetAttributes())\n\u001B[1;32m      3\u001B[0m \u001B[38;5;28;01mfor\u001B[39;00m child \u001B[38;5;129;01min\u001B[39;00m accessible:\n\u001B[0;32m----> 4\u001B[0m     \u001B[43mrecursively_show_content\u001B[49m\u001B[43m(\u001B[49m\u001B[43mchild\u001B[49m\u001B[43m,\u001B[49m\u001B[43m \u001B[49m\u001B[43mprefix\u001B[49m\u001B[38;5;241;43m=\u001B[39;49m\u001B[43mprefix\u001B[49m\u001B[43m \u001B[49m\u001B[38;5;241;43m+\u001B[39;49m\u001B[43m \u001B[49m\u001B[38;5;124;43m\"\u001B[39;49m\u001B[38;5;124;43m--\u001B[39;49m\u001B[38;5;124;43m\"\u001B[39;49m\u001B[43m)\u001B[49m\n",
      "Cell \u001B[0;32mIn[279], line 4\u001B[0m, in \u001B[0;36mrecursively_show_content\u001B[0;34m(accessible, prefix)\u001B[0m\n\u001B[1;32m      2\u001B[0m \u001B[38;5;28mprint\u001B[39m(prefix, \u001B[38;5;124m\"\u001B[39m\u001B[38;5;124mid:\u001B[39m\u001B[38;5;124m\"\u001B[39m, accessible\u001B[38;5;241m.\u001B[39maccessibleId, \u001B[38;5;124m\"\u001B[39m\u001B[38;5;124mrole:\u001B[39m\u001B[38;5;124m\"\u001B[39m, accessible\u001B[38;5;241m.\u001B[39mgetRoleName(), \u001B[38;5;124m\"\u001B[39m\u001B[38;5;124mname:\u001B[39m\u001B[38;5;124m\"\u001B[39m, accessible\u001B[38;5;241m.\u001B[39mname, \u001B[38;5;124m\"\u001B[39m\u001B[38;5;124mattrs:\u001B[39m\u001B[38;5;124m\"\u001B[39m, accessible\u001B[38;5;241m.\u001B[39mgetAttributes())\n\u001B[1;32m      3\u001B[0m \u001B[38;5;28;01mfor\u001B[39;00m child \u001B[38;5;129;01min\u001B[39;00m accessible:\n\u001B[0;32m----> 4\u001B[0m     \u001B[43mrecursively_show_content\u001B[49m\u001B[43m(\u001B[49m\u001B[43mchild\u001B[49m\u001B[43m,\u001B[49m\u001B[43m \u001B[49m\u001B[43mprefix\u001B[49m\u001B[38;5;241;43m=\u001B[39;49m\u001B[43mprefix\u001B[49m\u001B[43m \u001B[49m\u001B[38;5;241;43m+\u001B[39;49m\u001B[43m \u001B[49m\u001B[38;5;124;43m\"\u001B[39;49m\u001B[38;5;124;43m--\u001B[39;49m\u001B[38;5;124;43m\"\u001B[39;49m\u001B[43m)\u001B[49m\n",
      "    \u001B[0;31m[... skipping similar frames: recursively_show_content at line 4 (2 times)]\u001B[0m\n",
      "Cell \u001B[0;32mIn[279], line 4\u001B[0m, in \u001B[0;36mrecursively_show_content\u001B[0;34m(accessible, prefix)\u001B[0m\n\u001B[1;32m      2\u001B[0m \u001B[38;5;28mprint\u001B[39m(prefix, \u001B[38;5;124m\"\u001B[39m\u001B[38;5;124mid:\u001B[39m\u001B[38;5;124m\"\u001B[39m, accessible\u001B[38;5;241m.\u001B[39maccessibleId, \u001B[38;5;124m\"\u001B[39m\u001B[38;5;124mrole:\u001B[39m\u001B[38;5;124m\"\u001B[39m, accessible\u001B[38;5;241m.\u001B[39mgetRoleName(), \u001B[38;5;124m\"\u001B[39m\u001B[38;5;124mname:\u001B[39m\u001B[38;5;124m\"\u001B[39m, accessible\u001B[38;5;241m.\u001B[39mname, \u001B[38;5;124m\"\u001B[39m\u001B[38;5;124mattrs:\u001B[39m\u001B[38;5;124m\"\u001B[39m, accessible\u001B[38;5;241m.\u001B[39mgetAttributes())\n\u001B[1;32m      3\u001B[0m \u001B[38;5;28;01mfor\u001B[39;00m child \u001B[38;5;129;01min\u001B[39;00m accessible:\n\u001B[0;32m----> 4\u001B[0m     \u001B[43mrecursively_show_content\u001B[49m\u001B[43m(\u001B[49m\u001B[43mchild\u001B[49m\u001B[43m,\u001B[49m\u001B[43m \u001B[49m\u001B[43mprefix\u001B[49m\u001B[38;5;241;43m=\u001B[39;49m\u001B[43mprefix\u001B[49m\u001B[43m \u001B[49m\u001B[38;5;241;43m+\u001B[39;49m\u001B[43m \u001B[49m\u001B[38;5;124;43m\"\u001B[39;49m\u001B[38;5;124;43m--\u001B[39;49m\u001B[38;5;124;43m\"\u001B[39;49m\u001B[43m)\u001B[49m\n",
      "Cell \u001B[0;32mIn[279], line 2\u001B[0m, in \u001B[0;36mrecursively_show_content\u001B[0;34m(accessible, prefix)\u001B[0m\n\u001B[1;32m      1\u001B[0m \u001B[38;5;28;01mdef\u001B[39;00m \u001B[38;5;21mrecursively_show_content\u001B[39m(accessible: pyatspi\u001B[38;5;241m.\u001B[39mAccessible, prefix: \u001B[38;5;28mstr\u001B[39m\u001B[38;5;241m=\u001B[39m\u001B[38;5;124m\"\u001B[39m\u001B[38;5;124m\"\u001B[39m):\n\u001B[0;32m----> 2\u001B[0m     \u001B[38;5;28mprint\u001B[39m(prefix, \u001B[38;5;124m\"\u001B[39m\u001B[38;5;124mid:\u001B[39m\u001B[38;5;124m\"\u001B[39m, accessible\u001B[38;5;241m.\u001B[39maccessibleId, \u001B[38;5;124m\"\u001B[39m\u001B[38;5;124mrole:\u001B[39m\u001B[38;5;124m\"\u001B[39m, accessible\u001B[38;5;241m.\u001B[39mgetRoleName(), \u001B[38;5;124m\"\u001B[39m\u001B[38;5;124mname:\u001B[39m\u001B[38;5;124m\"\u001B[39m, accessible\u001B[38;5;241m.\u001B[39mname, \u001B[38;5;124m\"\u001B[39m\u001B[38;5;124mattrs:\u001B[39m\u001B[38;5;124m\"\u001B[39m, \u001B[43maccessible\u001B[49m\u001B[38;5;241;43m.\u001B[39;49m\u001B[43mgetAttributes\u001B[49m\u001B[43m(\u001B[49m\u001B[43m)\u001B[49m)\n\u001B[1;32m      3\u001B[0m     \u001B[38;5;28;01mfor\u001B[39;00m child \u001B[38;5;129;01min\u001B[39;00m accessible:\n\u001B[1;32m      4\u001B[0m         recursively_show_content(child, prefix\u001B[38;5;241m=\u001B[39mprefix \u001B[38;5;241m+\u001B[39m \u001B[38;5;124m\"\u001B[39m\u001B[38;5;124m--\u001B[39m\u001B[38;5;124m\"\u001B[39m)\n",
      "\u001B[0;31mKeyboardInterrupt\u001B[0m: "
     ]
    }
   ],
   "execution_count": 280
  }
 ],
 "metadata": {
  "kernelspec": {
   "display_name": "Python 3",
   "language": "python",
   "name": "python3"
  },
  "language_info": {
   "codemirror_mode": {
    "name": "ipython",
    "version": 2
   },
   "file_extension": ".py",
   "mimetype": "text/x-python",
   "name": "python",
   "nbconvert_exporter": "python",
   "pygments_lexer": "ipython2",
   "version": "2.7.6"
  }
 },
 "nbformat": 4,
 "nbformat_minor": 5
}
