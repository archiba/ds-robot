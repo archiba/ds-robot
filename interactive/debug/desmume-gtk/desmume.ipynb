{
 "cells": [
  {
   "cell_type": "code",
   "id": "initial_id",
   "metadata": {
    "collapsed": true,
    "ExecuteTime": {
     "end_time": "2024-05-11T14:10:48.417756Z",
     "start_time": "2024-05-11T14:10:48.370582Z"
    }
   },
   "source": "from dsrobo.config import Config, JobConfig",
   "outputs": [],
   "execution_count": 1
  },
  {
   "metadata": {
    "ExecuteTime": {
     "end_time": "2024-05-11T15:35:35.738828Z",
     "start_time": "2024-05-11T15:35:35.734395Z"
    }
   },
   "cell_type": "code",
   "source": "r\"abc.ABCD\\.\".split(\".\")",
   "id": "116c24656f7f611d",
   "outputs": [
    {
     "data": {
      "text/plain": [
       "['abc', 'ABCD\\\\', '']"
      ]
     },
     "execution_count": 33,
     "metadata": {},
     "output_type": "execute_result"
    }
   ],
   "execution_count": 33
  },
  {
   "metadata": {
    "ExecuteTime": {
     "end_time": "2024-05-11T14:10:49.135766Z",
     "start_time": "2024-05-11T14:10:49.129328Z"
    }
   },
   "cell_type": "code",
   "source": [
    "config = Config()\n",
    "job_config = JobConfig(rom_file_path=\"/home/archiba/Downloads/POKEMON_B_IRBJ01_00.trim.nds\", actions=[], emulator_type='nds')"
   ],
   "id": "3aa3e5c367d6200f",
   "outputs": [],
   "execution_count": 2
  },
  {
   "metadata": {
    "ExecuteTime": {
     "end_time": "2024-05-11T14:10:50.087182Z",
     "start_time": "2024-05-11T14:10:50.024252Z"
    }
   },
   "cell_type": "code",
   "source": [
    "from dsrobo.launcher.desmume.linux_gtk import DeSmuMELauncher\n",
    "from dsrobo.rom_loader.desmume.linux_gtk import DeSmuMERomLoader"
   ],
   "id": "bdf6d075be4f7c3c",
   "outputs": [],
   "execution_count": 3
  },
  {
   "metadata": {
    "ExecuteTime": {
     "end_time": "2024-05-11T14:10:58.770689Z",
     "start_time": "2024-05-11T14:10:50.632554Z"
    }
   },
   "cell_type": "code",
   "source": [
    "launcher = DeSmuMELauncher()\n",
    "application = launcher.launch(config)\n",
    "rom_loader = DeSmuMERomLoader()\n",
    "rom_loader.load_rom(application, config, job_config)"
   ],
   "id": "2586cac5da46b989",
   "outputs": [
    {
     "name": "stderr",
     "output_type": "stream",
     "text": [
      "Gtk-Message: 23:10:51.044: Failed to load module \"canberra-gtk-module\"\n",
      "Gtk-Message: 23:10:51.045: Failed to load module \"canberra-gtk-module\"\n",
      "Using 32 threads for video filter.\n"
     ]
    }
   ],
   "execution_count": 4
  },
  {
   "metadata": {
    "ExecuteTime": {
     "end_time": "2024-05-11T14:11:13.811301Z",
     "start_time": "2024-05-11T14:11:13.730498Z"
    }
   },
   "cell_type": "code",
   "source": [
    "for child in application:\n",
    "    print(f\"role({child.getRoleName()}), name({child.name})\")"
   ],
   "id": "5b6c4be82d625228",
   "outputs": [
    {
     "name": "stdout",
     "output_type": "stream",
     "text": [
      "role(frame), name(DeSmuME - 60fps, 0 skipped, draw: 45fps)\n"
     ]
    }
   ],
   "execution_count": 5
  },
  {
   "metadata": {
    "ExecuteTime": {
     "end_time": "2024-05-11T14:12:01.003554Z",
     "start_time": "2024-05-11T14:12:01.000882Z"
    }
   },
   "cell_type": "code",
   "source": "from dsrobo.util.linux_gtk import *",
   "id": "56173b07153c3c93",
   "outputs": [],
   "execution_count": 12
  },
  {
   "metadata": {
    "ExecuteTime": {
     "end_time": "2024-05-11T14:11:15.329043Z",
     "start_time": "2024-05-11T14:11:15.325072Z"
    }
   },
   "cell_type": "code",
   "source": "frame_identifier = ElementIdentifier(role=\"frame\")",
   "id": "18239842d22d1ada",
   "outputs": [],
   "execution_count": 7
  },
  {
   "metadata": {
    "ExecuteTime": {
     "end_time": "2024-05-11T14:11:16.112005Z",
     "start_time": "2024-05-11T14:11:16.030550Z"
    }
   },
   "cell_type": "code",
   "source": "main_window = find_window_by_exact_name(application, \"DeSmuME.*\")",
   "id": "76a53c16e680372a",
   "outputs": [],
   "execution_count": 8
  },
  {
   "metadata": {
    "ExecuteTime": {
     "end_time": "2024-05-11T14:14:10.657407Z",
     "start_time": "2024-05-11T14:14:10.509483Z"
    }
   },
   "cell_type": "code",
   "source": "",
   "id": "ee6226ac913720c8",
   "outputs": [],
   "execution_count": 19
  },
  {
   "metadata": {
    "ExecuteTime": {
     "end_time": "2024-05-11T14:16:13.835205Z",
     "start_time": "2024-05-11T14:16:11.761476Z"
    }
   },
   "cell_type": "code",
   "source": [
    "menu_bar = find_element_by_role_and_id(main_window, ElementIdentifier(role=\"menu bar\"))\n",
    "file_menu = find_element_by_role_and_id(menu_bar, ElementIdentifier(role=\"menu\", name=\"File\"))\n",
    "reset_item = find_element_by_role_and_id(file_menu, ElementIdentifier(role=\"menu item\", title=\"Reset\"))\n",
    "click(reset_item)"
   ],
   "id": "f448512442f52a78",
   "outputs": [],
   "execution_count": 26
  },
  {
   "metadata": {
    "ExecuteTime": {
     "end_time": "2024-05-11T14:14:11.224536Z",
     "start_time": "2024-05-11T14:14:11.175535Z"
    }
   },
   "cell_type": "code",
   "source": "",
   "id": "65e9aab6793d3371",
   "outputs": [
    {
     "name": "stderr",
     "output_type": "stream",
     "text": [
      "\n",
      "(desmume:2): Gtk-WARNING **: 23:14:11.223: no trigger event for menu popup\n"
     ]
    }
   ],
   "execution_count": 21
  },
  {
   "metadata": {
    "ExecuteTime": {
     "end_time": "2024-05-11T14:14:12.730088Z",
     "start_time": "2024-05-11T14:14:11.225296Z"
    }
   },
   "cell_type": "code",
   "source": "",
   "id": "1a556b1e868be3aa",
   "outputs": [
    {
     "name": "stderr",
     "output_type": "stream",
     "text": [
      "\n",
      "(desmume:2): Gtk-WARNING **: 23:14:11.226: no trigger event for menu popup\n"
     ]
    }
   ],
   "execution_count": 22
  },
  {
   "metadata": {
    "ExecuteTime": {
     "end_time": "2024-05-11T14:02:31.348662Z",
     "start_time": "2024-05-11T14:02:31.345764Z"
    }
   },
   "cell_type": "code",
   "source": [
    "for child in reset_item:\n",
    "    print(f\"role({child.getRoleName()}), name({child.name})\")"
   ],
   "id": "cba949934a641187",
   "outputs": [],
   "execution_count": 26
  },
  {
   "metadata": {
    "ExecuteTime": {
     "end_time": "2024-05-11T14:13:19.050824Z",
     "start_time": "2024-05-11T14:13:19.048210Z"
    }
   },
   "cell_type": "code",
   "source": "import time",
   "id": "e78306b85c5692f7",
   "outputs": [],
   "execution_count": 17
  },
  {
   "metadata": {},
   "cell_type": "code",
   "outputs": [],
   "execution_count": 29,
   "source": "import pyatspi",
   "id": "f62481a702b6bfca"
  },
  {
   "metadata": {
    "ExecuteTime": {
     "end_time": "2024-05-11T14:36:27.172167Z",
     "start_time": "2024-05-11T14:36:26.628579Z"
    }
   },
   "cell_type": "code",
   "source": [
    "menu_bar = find_element_by_role_and_id(main_window, ElementIdentifier(role=\"menu bar\"))\n",
    "file_menu = find_element_by_role_and_id(menu_bar, ElementIdentifier(role=\"menu\", name=\"File\"))\n",
    "reset_item = find_element_by_role_and_id(file_menu, ElementIdentifier(role=\"menu item\", title=\"Save state to.*\"))\n",
    "click(reset_item)\n",
    "\n",
    "time.sleep(0.5)\n",
    "\n",
    "registry = pyatspi.Registry()\n",
    "send_keys(registry, [37, 38])\n",
    "type_write(registry, \"/home/archiba/Documents/save.ds\")\n",
    "send_keys(registry, [36])"
   ],
   "id": "e460ec69bd479f6b",
   "outputs": [],
   "execution_count": 31
  },
  {
   "metadata": {
    "ExecuteTime": {
     "end_time": "2024-05-11T14:12:24.384264Z",
     "start_time": "2024-05-11T14:12:24.380734Z"
    }
   },
   "cell_type": "code",
   "source": "action_obj = reset_item.queryAction()",
   "id": "ff122f75e938a0a5",
   "outputs": [],
   "execution_count": 14
  },
  {
   "metadata": {
    "ExecuteTime": {
     "end_time": "2024-05-11T14:05:57.515718Z",
     "start_time": "2024-05-11T14:05:57.499496Z"
    }
   },
   "cell_type": "code",
   "source": "action_obj.",
   "id": "be2abf403cca5e06",
   "outputs": [
    {
     "ename": "AttributeError",
     "evalue": "'Action' object has no attribute 'getN_Actions'",
     "output_type": "error",
     "traceback": [
      "\u001B[0;31m---------------------------------------------------------------------------\u001B[0m",
      "\u001B[0;31mAttributeError\u001B[0m                            Traceback (most recent call last)",
      "Cell \u001B[0;32mIn[33], line 1\u001B[0m\n\u001B[0;32m----> 1\u001B[0m \u001B[43maction_obj\u001B[49m\u001B[38;5;241;43m.\u001B[39;49m\u001B[43mgetN_Actions\u001B[49m()\n",
      "\u001B[0;31mAttributeError\u001B[0m: 'Action' object has no attribute 'getN_Actions'"
     ]
    }
   ],
   "execution_count": 33
  },
  {
   "metadata": {},
   "cell_type": "code",
   "outputs": [],
   "execution_count": null,
   "source": "",
   "id": "cc818b3c7786db9a"
  }
 ],
 "metadata": {
  "kernelspec": {
   "display_name": "Python 3",
   "language": "python",
   "name": "python3"
  },
  "language_info": {
   "codemirror_mode": {
    "name": "ipython",
    "version": 2
   },
   "file_extension": ".py",
   "mimetype": "text/x-python",
   "name": "python",
   "nbconvert_exporter": "python",
   "pygments_lexer": "ipython2",
   "version": "2.7.6"
  }
 },
 "nbformat": 4,
 "nbformat_minor": 5
}
