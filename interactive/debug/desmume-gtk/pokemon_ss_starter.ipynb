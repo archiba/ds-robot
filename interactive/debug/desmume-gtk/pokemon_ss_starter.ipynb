{
 "cells": [
  {
   "cell_type": "code",
   "id": "6917ffeb-bbb8-4c1a-8f9f-7a5512e6eb2d",
   "metadata": {
    "ExecuteTime": {
     "end_time": "2024-05-11T17:18:49.111530Z",
     "start_time": "2024-05-11T17:18:49.067032Z"
    }
   },
   "source": [
    "from dsrobo.config import Config, JobConfig"
   ],
   "outputs": [],
   "execution_count": 1
  },
  {
   "cell_type": "code",
   "id": "d564df40-e0e3-480a-b427-6fd11f83f5b1",
   "metadata": {
    "ExecuteTime": {
     "end_time": "2024-05-11T17:18:49.245051Z",
     "start_time": "2024-05-11T17:18:49.112055Z"
    }
   },
   "source": [
    "from dsrobo.launcher.desmume import DeSmuMELauncher"
   ],
   "outputs": [],
   "execution_count": 2
  },
  {
   "cell_type": "code",
   "id": "71e5af54-3ccb-4f3f-be5c-21e347fef4dc",
   "metadata": {
    "ExecuteTime": {
     "end_time": "2024-05-11T17:18:49.248256Z",
     "start_time": "2024-05-11T17:18:49.245479Z"
    }
   },
   "source": [
    "from dsrobo.rom_loader.desmume import DeSmuMERomLoader"
   ],
   "outputs": [],
   "execution_count": 3
  },
  {
   "cell_type": "code",
   "id": "43e19faa-7a7e-4744-ba81-157c5c389bb2",
   "metadata": {
    "ExecuteTime": {
     "end_time": "2024-05-11T17:18:49.257750Z",
     "start_time": "2024-05-11T17:18:49.249094Z"
    }
   },
   "source": [
    "from dsrobo.job_actions.pipeline import JobActionPipelineBase"
   ],
   "outputs": [],
   "execution_count": 4
  },
  {
   "cell_type": "code",
   "id": "72796752-7992-443c-87b2-e266a3ac070d",
   "metadata": {
    "ExecuteTime": {
     "end_time": "2024-05-11T17:18:49.259789Z",
     "start_time": "2024-05-11T17:18:49.258239Z"
    }
   },
   "source": [
    "config = Config()\n",
    "job_config = JobConfig.parse_file(\"../../../jobs/nds/POKEMON_SS/shiny_starter_linuxgtk.json\")"
   ],
   "outputs": [],
   "execution_count": 5
  },
  {
   "metadata": {
    "ExecuteTime": {
     "end_time": "2024-05-11T17:18:49.263468Z",
     "start_time": "2024-05-11T17:18:49.260097Z"
    }
   },
   "cell_type": "code",
   "source": "job_config.rom_file_path=\"/home/archiba/Downloads/POKEMON_HG_IPKJ01_00.trim.nds\"",
   "id": "cc85da27f9da2c8b",
   "outputs": [],
   "execution_count": 6
  },
  {
   "cell_type": "code",
   "id": "24af0809-6e32-471b-aeae-18921d521ba1",
   "metadata": {
    "ExecuteTime": {
     "end_time": "2024-05-11T17:18:49.267559Z",
     "start_time": "2024-05-11T17:18:49.263766Z"
    }
   },
   "source": [
    "launcher = DeSmuMELauncher()"
   ],
   "outputs": [],
   "execution_count": 7
  },
  {
   "cell_type": "code",
   "id": "7a264077-15cb-4c5b-9ae3-a9386f6295ed",
   "metadata": {
    "ExecuteTime": {
     "end_time": "2024-05-11T17:18:49.270893Z",
     "start_time": "2024-05-11T17:18:49.267838Z"
    }
   },
   "source": [
    "rom_loader = DeSmuMERomLoader()"
   ],
   "outputs": [],
   "execution_count": 8
  },
  {
   "cell_type": "code",
   "id": "850a2e80-7928-4874-acdc-e505d32d5d08",
   "metadata": {
    "ExecuteTime": {
     "end_time": "2024-05-11T17:30:47.220332Z",
     "start_time": "2024-05-11T17:18:49.271410Z"
    }
   },
   "source": [
    "application = launcher.launch(config)\n",
    "rom_loader.load_rom(application, config, job_config)\n",
    "pl = JobActionPipelineBase(config, job_config)\n",
    "pl.validate()\n",
    "pl(application)"
   ],
   "outputs": [
    {
     "name": "stderr",
     "output_type": "stream",
     "text": [
      "Gtk-Message: 02:18:49.452: Failed to load module \"canberra-gtk-module\"\n",
      "Gtk-Message: 02:18:49.452: Failed to load module \"canberra-gtk-module\"\n",
      "Using 32 threads for video filter.\n"
     ]
    },
    {
     "name": "stdout",
     "output_type": "stream",
     "text": [
      "reserved elements:\n",
      "{'application': <Atspi.Accessible object at 0x7f2a560da380 (AtspiAccessible at 0x3540ee0)>, 'main_window': <Atspi.Accessible object at 0x7f2a64714d40 (AtspiAccessible at 0x36cc280)>, 'menu_bar': <Atspi.Accessible object at 0x7f2a560dca40 (AtspiAccessible at 0x3531070)>}\n",
      "dict_keys([1])\n"
     ]
    },
    {
     "name": "stderr",
     "output_type": "stream",
     "text": [
      "\n",
      "(desmume:2): GLib-GObject-WARNING **: 02:19:00.272: invalid cast from 'GtkToplevelAccessible' to 'GtkAccessible'\n",
      "\n",
      "(desmume:2): Gtk-CRITICAL **: 02:19:00.272: gtk_accessible_get_widget: assertion 'GTK_IS_ACCESSIBLE (accessible)' failed\n"
     ]
    },
    {
     "name": "stdout",
     "output_type": "stream",
     "text": [
      "dict_keys([])\n",
      "dict_keys([])\n",
      "dict_keys([])\n",
      "dict_keys([])\n",
      "dict_keys([])\n",
      "dict_keys([])\n",
      "dict_keys([])\n",
      "dict_keys([])\n",
      "dict_keys([])\n",
      "dict_keys([])\n",
      "dict_keys([])\n"
     ]
    },
    {
     "name": "stderr",
     "output_type": "stream",
     "text": [
      "\n",
      "(desmume:2): GLib-GObject-WARNING **: 02:19:47.302: invalid cast from 'GtkToplevelAccessible' to 'GtkAccessible'\n",
      "\n",
      "(desmume:2): Gtk-CRITICAL **: 02:19:47.302: gtk_accessible_get_widget: assertion 'GTK_IS_ACCESSIBLE (accessible)' failed\n"
     ]
    },
    {
     "name": "stdout",
     "output_type": "stream",
     "text": [
      "dict_keys([])\n",
      "dict_keys([1])\n"
     ]
    },
    {
     "name": "stderr",
     "output_type": "stream",
     "text": [
      "\n",
      "(desmume:2): GLib-GObject-WARNING **: 02:19:47.556: invalid cast from 'GtkToplevelAccessible' to 'GtkAccessible'\n",
      "\n",
      "(desmume:2): Gtk-CRITICAL **: 02:19:47.556: gtk_accessible_get_widget: assertion 'GTK_IS_ACCESSIBLE (accessible)' failed\n",
      "\n",
      "(desmume:2): GLib-GObject-WARNING **: 02:19:49.752: invalid cast from 'GtkToplevelAccessible' to 'GtkAccessible'\n",
      "\n",
      "(desmume:2): Gtk-CRITICAL **: 02:19:49.752: gtk_accessible_get_widget: assertion 'GTK_IS_ACCESSIBLE (accessible)' failed\n"
     ]
    },
    {
     "name": "stdout",
     "output_type": "stream",
     "text": [
      "dict_keys([])\n",
      "dict_keys([])\n",
      "dict_keys([])\n",
      "dict_keys([])\n",
      "dict_keys([])\n",
      "dict_keys([])\n",
      "dict_keys([])\n",
      "dict_keys([])\n",
      "dict_keys([])\n",
      "dict_keys([])\n",
      "dict_keys([])\n"
     ]
    },
    {
     "name": "stderr",
     "output_type": "stream",
     "text": [
      "\n",
      "(desmume:2): GLib-GObject-WARNING **: 02:20:36.718: invalid cast from 'GtkToplevelAccessible' to 'GtkAccessible'\n",
      "\n",
      "(desmume:2): Gtk-CRITICAL **: 02:20:36.718: gtk_accessible_get_widget: assertion 'GTK_IS_ACCESSIBLE (accessible)' failed\n"
     ]
    },
    {
     "name": "stdout",
     "output_type": "stream",
     "text": [
      "dict_keys([])\n",
      "dict_keys([1])\n"
     ]
    },
    {
     "name": "stderr",
     "output_type": "stream",
     "text": [
      "\n",
      "(desmume:2): GLib-GObject-WARNING **: 02:20:37.156: invalid cast from 'GtkToplevelAccessible' to 'GtkAccessible'\n",
      "\n",
      "(desmume:2): Gtk-CRITICAL **: 02:20:37.156: gtk_accessible_get_widget: assertion 'GTK_IS_ACCESSIBLE (accessible)' failed\n",
      "\n",
      "(desmume:2): GLib-GObject-WARNING **: 02:20:39.396: invalid cast from 'GtkToplevelAccessible' to 'GtkAccessible'\n",
      "\n",
      "(desmume:2): Gtk-CRITICAL **: 02:20:39.396: gtk_accessible_get_widget: assertion 'GTK_IS_ACCESSIBLE (accessible)' failed\n"
     ]
    },
    {
     "name": "stdout",
     "output_type": "stream",
     "text": [
      "dict_keys([])\n",
      "dict_keys([])\n",
      "dict_keys([])\n",
      "dict_keys([])\n",
      "dict_keys([])\n",
      "dict_keys([])\n",
      "dict_keys([])\n",
      "dict_keys([])\n",
      "dict_keys([])\n",
      "dict_keys([])\n",
      "dict_keys([])\n"
     ]
    },
    {
     "name": "stderr",
     "output_type": "stream",
     "text": [
      "\n",
      "(desmume:2): GLib-GObject-WARNING **: 02:21:26.229: invalid cast from 'GtkToplevelAccessible' to 'GtkAccessible'\n",
      "\n",
      "(desmume:2): Gtk-CRITICAL **: 02:21:26.229: gtk_accessible_get_widget: assertion 'GTK_IS_ACCESSIBLE (accessible)' failed\n"
     ]
    },
    {
     "name": "stdout",
     "output_type": "stream",
     "text": [
      "dict_keys([])\n",
      "dict_keys([1])\n"
     ]
    },
    {
     "name": "stderr",
     "output_type": "stream",
     "text": [
      "\n",
      "(desmume:2): GLib-GObject-WARNING **: 02:21:26.710: invalid cast from 'GtkToplevelAccessible' to 'GtkAccessible'\n",
      "\n",
      "(desmume:2): Gtk-CRITICAL **: 02:21:26.711: gtk_accessible_get_widget: assertion 'GTK_IS_ACCESSIBLE (accessible)' failed\n",
      "\n",
      "(desmume:2): GLib-GObject-WARNING **: 02:21:29.032: invalid cast from 'GtkToplevelAccessible' to 'GtkAccessible'\n",
      "\n",
      "(desmume:2): Gtk-CRITICAL **: 02:21:29.032: gtk_accessible_get_widget: assertion 'GTK_IS_ACCESSIBLE (accessible)' failed\n"
     ]
    },
    {
     "name": "stdout",
     "output_type": "stream",
     "text": [
      "dict_keys([])\n",
      "dict_keys([])\n",
      "dict_keys([])\n",
      "dict_keys([])\n",
      "dict_keys([])\n",
      "dict_keys([])\n",
      "dict_keys([])\n",
      "dict_keys([])\n",
      "dict_keys([])\n",
      "dict_keys([])\n",
      "dict_keys([])\n"
     ]
    },
    {
     "name": "stderr",
     "output_type": "stream",
     "text": [
      "\n",
      "(desmume:2): GLib-GObject-WARNING **: 02:22:15.876: invalid cast from 'GtkToplevelAccessible' to 'GtkAccessible'\n",
      "\n",
      "(desmume:2): Gtk-CRITICAL **: 02:22:15.876: gtk_accessible_get_widget: assertion 'GTK_IS_ACCESSIBLE (accessible)' failed\n"
     ]
    },
    {
     "name": "stdout",
     "output_type": "stream",
     "text": [
      "dict_keys([])\n",
      "dict_keys([1])\n"
     ]
    },
    {
     "name": "stderr",
     "output_type": "stream",
     "text": [
      "\n",
      "(desmume:2): GLib-GObject-WARNING **: 02:22:16.268: invalid cast from 'GtkToplevelAccessible' to 'GtkAccessible'\n",
      "\n",
      "(desmume:2): Gtk-CRITICAL **: 02:22:16.268: gtk_accessible_get_widget: assertion 'GTK_IS_ACCESSIBLE (accessible)' failed\n",
      "\n",
      "(desmume:2): GLib-GObject-WARNING **: 02:22:17.888: invalid cast from 'GtkToplevelAccessible' to 'GtkAccessible'\n",
      "\n",
      "(desmume:2): Gtk-CRITICAL **: 02:22:17.888: gtk_accessible_get_widget: assertion 'GTK_IS_ACCESSIBLE (accessible)' failed\n"
     ]
    },
    {
     "name": "stdout",
     "output_type": "stream",
     "text": [
      "dict_keys([])\n",
      "dict_keys([])\n",
      "dict_keys([])\n",
      "dict_keys([])\n",
      "dict_keys([])\n",
      "dict_keys([])\n",
      "dict_keys([])\n",
      "dict_keys([])\n",
      "dict_keys([])\n",
      "dict_keys([])\n",
      "dict_keys([])\n"
     ]
    },
    {
     "name": "stderr",
     "output_type": "stream",
     "text": [
      "\n",
      "(desmume:2): GLib-GObject-WARNING **: 02:23:05.084: invalid cast from 'GtkToplevelAccessible' to 'GtkAccessible'\n",
      "\n",
      "(desmume:2): Gtk-CRITICAL **: 02:23:05.084: gtk_accessible_get_widget: assertion 'GTK_IS_ACCESSIBLE (accessible)' failed\n",
      "\n",
      "(desmume:2): GLib-GObject-WARNING **: 02:23:05.195: invalid cast from 'GtkToplevelAccessible' to 'GtkAccessible'\n",
      "\n",
      "(desmume:2): Gtk-CRITICAL **: 02:23:05.195: gtk_accessible_get_widget: assertion 'GTK_IS_ACCESSIBLE (accessible)' failed\n"
     ]
    },
    {
     "name": "stdout",
     "output_type": "stream",
     "text": [
      "dict_keys([])\n",
      "dict_keys([1])\n"
     ]
    },
    {
     "name": "stderr",
     "output_type": "stream",
     "text": [
      "\n",
      "(desmume:2): GLib-GObject-WARNING **: 02:23:07.128: invalid cast from 'GtkToplevelAccessible' to 'GtkAccessible'\n",
      "\n",
      "(desmume:2): Gtk-CRITICAL **: 02:23:07.128: gtk_accessible_get_widget: assertion 'GTK_IS_ACCESSIBLE (accessible)' failed\n"
     ]
    },
    {
     "name": "stdout",
     "output_type": "stream",
     "text": [
      "dict_keys([])\n",
      "dict_keys([])\n",
      "dict_keys([])\n",
      "dict_keys([])\n",
      "dict_keys([])\n",
      "dict_keys([])\n",
      "dict_keys([])\n",
      "dict_keys([])\n",
      "dict_keys([])\n",
      "dict_keys([])\n"
     ]
    },
    {
     "name": "stderr",
     "output_type": "stream",
     "text": [
      "\n",
      "** (desmume:2): WARNING **: 02:23:49.678: atk-bridge: get_device_events_reply: unknown signature\n"
     ]
    },
    {
     "name": "stdout",
     "output_type": "stream",
     "text": [
      "dict_keys([])\n"
     ]
    },
    {
     "name": "stderr",
     "output_type": "stream",
     "text": [
      "\n",
      "(desmume:2): GLib-GObject-WARNING **: 02:23:53.855: invalid cast from 'GtkToplevelAccessible' to 'GtkAccessible'\n",
      "\n",
      "(desmume:2): Gtk-CRITICAL **: 02:23:53.855: gtk_accessible_get_widget: assertion 'GTK_IS_ACCESSIBLE (accessible)' failed\n"
     ]
    },
    {
     "name": "stdout",
     "output_type": "stream",
     "text": [
      "dict_keys([])\n",
      "dict_keys([1])\n"
     ]
    },
    {
     "name": "stderr",
     "output_type": "stream",
     "text": [
      "\n",
      "(desmume:2): GLib-GObject-WARNING **: 02:23:54.338: invalid cast from 'GtkToplevelAccessible' to 'GtkAccessible'\n",
      "\n",
      "(desmume:2): Gtk-CRITICAL **: 02:23:54.338: gtk_accessible_get_widget: assertion 'GTK_IS_ACCESSIBLE (accessible)' failed\n",
      "\n",
      "(desmume:2): GLib-GObject-WARNING **: 02:23:56.617: invalid cast from 'GtkToplevelAccessible' to 'GtkAccessible'\n",
      "\n",
      "(desmume:2): Gtk-CRITICAL **: 02:23:56.618: gtk_accessible_get_widget: assertion 'GTK_IS_ACCESSIBLE (accessible)' failed\n"
     ]
    },
    {
     "name": "stdout",
     "output_type": "stream",
     "text": [
      "dict_keys([])\n",
      "dict_keys([])\n",
      "dict_keys([])\n",
      "dict_keys([])\n",
      "dict_keys([])\n",
      "dict_keys([])\n",
      "dict_keys([])\n",
      "dict_keys([])\n",
      "dict_keys([])\n",
      "dict_keys([])\n",
      "dict_keys([])\n"
     ]
    },
    {
     "name": "stderr",
     "output_type": "stream",
     "text": [
      "\n",
      "(desmume:2): GLib-GObject-WARNING **: 02:24:43.375: invalid cast from 'GtkToplevelAccessible' to 'GtkAccessible'\n",
      "\n",
      "(desmume:2): Gtk-CRITICAL **: 02:24:43.375: gtk_accessible_get_widget: assertion 'GTK_IS_ACCESSIBLE (accessible)' failed\n"
     ]
    },
    {
     "name": "stdout",
     "output_type": "stream",
     "text": [
      "dict_keys([])\n",
      "dict_keys([1])\n"
     ]
    },
    {
     "name": "stderr",
     "output_type": "stream",
     "text": [
      "\n",
      "(desmume:2): GLib-GObject-WARNING **: 02:24:43.839: invalid cast from 'GtkToplevelAccessible' to 'GtkAccessible'\n",
      "\n",
      "(desmume:2): Gtk-CRITICAL **: 02:24:43.839: gtk_accessible_get_widget: assertion 'GTK_IS_ACCESSIBLE (accessible)' failed\n"
     ]
    },
    {
     "name": "stdout",
     "output_type": "stream",
     "text": [
      "Microphone successfully inited.\n",
      "DeSmuME 0.9.14 git#0 x64-JIT SSE2\n",
      "CPU mode: Interpreter\n",
      "OGL/SDL Renderer has finished the initialization.\n",
      "OpenGL: Successfully created geometry shaders.\n",
      "OpenGL: Successfully created postprocess shaders.\n",
      "OpenGL: Successfully created FBOs.\n",
      "OpenGL: Successfully created multisampled FBO.\n",
      "OpenGL: Renderer initialized successfully (v3.2.0).\n",
      "[ Driver Info -\n",
      "    Version: 3.2.0 NVIDIA 535.171.04\n",
      "    Vendor: NVIDIA Corporation\n",
      "    Renderer: NVIDIA GeForce RTX 4090/PCIe/SSE2 ]\n",
      "\n",
      "ROM game code: IPKJ\n",
      "ROM crc: E3A4400C\n",
      "ROM serial: NTR-IPKJ-JPN\n",
      "ROM chipID: 00007FC2\n",
      "ROM internal name: POKEMON HG\n",
      "ROM developer: Nintendo\n",
      "\n",
      "Slot1 auto-selected device type: Retail MC+ROM\n",
      "Slot2 auto-selected device type: None (0xFF)\n",
      "BackupDevice: size = 4 Mbit\n",
      "CPU mode: Interpreter\n",
      "Already decrypted.\n",
      "WIFI: MAC Address = 00:09:BF:12:34:56\n",
      "WIFI: Emulation level is OFF.\n",
      "Slot1 auto-selected device type: Retail MC+ROM\n",
      "Slot2 auto-selected device type: None (0xFF)\n",
      "BackupDevice: size = 4 Mbit\n",
      "CPU mode: Interpreter\n",
      "Already decrypted.\n",
      "WIFI: MAC Address = 00:09:BF:12:34:56\n",
      "WIFI: Emulation level is OFF.\n",
      "MC9: Unverified Backup Memory command: 08 FROM 020DD624\n",
      "MC9: Unverified Backup Memory command: 08 FROM 020DD6CC\n",
      "MC9: Unverified Backup Memory command: 08 FROM 020DD624\n",
      "MC9: Unverified Backup Memory command: 08 FROM 020DD6CC\n",
      "Slot1 auto-selected device type: Retail MC+ROM\n",
      "Slot2 auto-selected device type: None (0xFF)\n",
      "BackupDevice: size = 4 Mbit\n",
      "CPU mode: Interpreter\n",
      "Already decrypted.\n",
      "WIFI: MAC Address = 00:09:BF:12:34:56\n",
      "WIFI: Emulation level is OFF.\n",
      "MC9: Unverified Backup Memory command: 08 FROM 020DD624\n",
      "MC9: Unverified Backup Memory command: 08 FROM 020DD6CC\n",
      "MC9: Unverified Backup Memory command: 08 FROM 020DD624\n",
      "MC9: Unverified Backup Memory command: 08 FROM 020DD6CC\n",
      "Slot1 auto-selected device type: Retail MC+ROM\n",
      "Slot2 auto-selected device type: None (0xFF)\n",
      "BackupDevice: size = 4 Mbit\n",
      "CPU mode: Interpreter\n",
      "Already decrypted.\n",
      "WIFI: MAC Address = 00:09:BF:12:34:56\n",
      "WIFI: Emulation level is OFF.\n",
      "MC9: Unverified Backup Memory command: 08 FROM 020DD624\n",
      "MC9: Unverified Backup Memory command: 08 FROM 020DD6CC\n",
      "MC9: Unverified Backup Memory command: 08 FROM 020DD624\n",
      "MC9: Unverified Backup Memory command: 08 FROM 020DD6CC\n",
      "Slot1 auto-selected device type: Retail MC+ROM\n",
      "Slot2 auto-selected device type: None (0xFF)\n",
      "BackupDevice: size = 4 Mbit\n",
      "CPU mode: Interpreter\n",
      "Already decrypted.\n",
      "WIFI: MAC Address = 00:09:BF:12:34:56\n",
      "WIFI: Emulation level is OFF.\n",
      "MC9: Unverified Backup Memory command: 08 FROM 020DD624\n",
      "MC9: Unverified Backup Memory command: 08 FROM 020DD6CC\n",
      "MC9: Unverified Backup Memory command: 08 FROM 020DD624\n",
      "MC9: Unverified Backup Memory command: 08 FROM 020DD6CC\n",
      "Slot1 auto-selected device type: Retail MC+ROM\n",
      "Slot2 auto-selected device type: None (0xFF)\n",
      "BackupDevice: size = 4 Mbit\n",
      "CPU mode: Interpreter\n",
      "Already decrypted.\n",
      "WIFI: MAC Address = 00:09:BF:12:34:56\n",
      "WIFI: Emulation level is OFF.\n",
      "MC9: Unverified Backup Memory command: 08 FROM 020DD624\n",
      "MC9: Unverified Backup Memory command: 08 FROM 020DD6CC\n",
      "MC9: Unverified Backup Memory command: 08 FROM 020DD624\n",
      "MC9: Unverified Backup Memory command: 08 FROM 020DD6CC\n",
      "Slot1 auto-selected device type: Retail MC+ROM\n",
      "Slot2 auto-selected device type: None (0xFF)\n",
      "BackupDevice: size = 4 Mbit\n",
      "CPU mode: Interpreter\n",
      "Already decrypted.\n",
      "WIFI: MAC Address = 00:09:BF:12:34:56\n",
      "WIFI: Emulation level is OFF.\n",
      "MC9: Unverified Backup Memory command: 08 FROM 020DD624\n",
      "MC9: Unverified Backup Memory command: 08 FROM 020DD6CC\n",
      "MC9: Unverified Backup Memory command: 08 FROM 020DD624\n",
      "MC9: Unverified Backup Memory command: 08 FROM 020DD6CC\n",
      "Slot1 auto-selected device type: Retail MC+ROM\n",
      "Slot2 auto-selected device type: None (0xFF)\n",
      "BackupDevice: size = 4 Mbit\n",
      "CPU mode: Interpreter\n",
      "Already decrypted.\n",
      "WIFI: MAC Address = 00:09:BF:12:34:56\n",
      "WIFI: Emulation level is OFF.\n",
      "MC9: Unverified Backup Memory command: 08 FROM 020DD624\n",
      "MC9: Unverified Backup Memory command: 08 FROM 020DD6CC\n",
      "MC9: Unverified Backup Memory command: 08 FROM 020DD624\n",
      "MC9: Unverified Backup Memory command: 08 FROM 020DD6CC\n",
      "Slot1 auto-selected device type: Retail MC+ROM\n",
      "Slot2 "
     ]
    },
    {
     "name": "stderr",
     "output_type": "stream",
     "text": [
      "\n",
      "(desmume:2): GLib-GObject-WARNING **: 02:24:45.803: invalid cast from 'GtkToplevelAccessible' to 'GtkAccessible'\n",
      "\n",
      "(desmume:2): Gtk-CRITICAL **: 02:24:45.803: gtk_accessible_get_widget: assertion 'GTK_IS_ACCESSIBLE (accessible)' failed\n"
     ]
    },
    {
     "name": "stdout",
     "output_type": "stream",
     "text": [
      "dict_keys([])\n",
      "dict_keys([])\n",
      "dict_keys([])\n",
      "dict_keys([])\n",
      "dict_keys([])\n",
      "dict_keys([])\n",
      "dict_keys([])\n",
      "dict_keys([])\n",
      "dict_keys([])\n",
      "dict_keys([])\n",
      "dict_keys([])\n"
     ]
    },
    {
     "name": "stderr",
     "output_type": "stream",
     "text": [
      "\n",
      "(desmume:2): GLib-GObject-WARNING **: 02:25:32.630: invalid cast from 'GtkToplevelAccessible' to 'GtkAccessible'\n",
      "\n",
      "(desmume:2): Gtk-CRITICAL **: 02:25:32.630: gtk_accessible_get_widget: assertion 'GTK_IS_ACCESSIBLE (accessible)' failed\n"
     ]
    },
    {
     "name": "stdout",
     "output_type": "stream",
     "text": [
      "dict_keys([])\n",
      "dict_keys([1])\n"
     ]
    },
    {
     "name": "stderr",
     "output_type": "stream",
     "text": [
      "\n",
      "(desmume:2): GLib-GObject-WARNING **: 02:25:33.119: invalid cast from 'GtkToplevelAccessible' to 'GtkAccessible'\n",
      "\n",
      "(desmume:2): Gtk-CRITICAL **: 02:25:33.119: gtk_accessible_get_widget: assertion 'GTK_IS_ACCESSIBLE (accessible)' failed\n",
      "\n",
      "(desmume:2): GLib-GObject-WARNING **: 02:25:35.444: invalid cast from 'GtkToplevelAccessible' to 'GtkAccessible'\n",
      "\n",
      "(desmume:2): Gtk-CRITICAL **: 02:25:35.444: gtk_accessible_get_widget: assertion 'GTK_IS_ACCESSIBLE (accessible)' failed\n"
     ]
    },
    {
     "name": "stdout",
     "output_type": "stream",
     "text": [
      "dict_keys([])\n",
      "dict_keys([])\n",
      "dict_keys([])\n",
      "dict_keys([])\n",
      "dict_keys([])\n",
      "dict_keys([])\n",
      "dict_keys([])\n",
      "dict_keys([])\n",
      "dict_keys([])\n",
      "dict_keys([])\n",
      "dict_keys([])\n"
     ]
    },
    {
     "name": "stderr",
     "output_type": "stream",
     "text": [
      "\n",
      "(desmume:2): GLib-GObject-WARNING **: 02:26:22.692: invalid cast from 'GtkToplevelAccessible' to 'GtkAccessible'\n",
      "\n",
      "(desmume:2): Gtk-CRITICAL **: 02:26:22.692: gtk_accessible_get_widget: assertion 'GTK_IS_ACCESSIBLE (accessible)' failed\n",
      "\n",
      "(desmume:2): GLib-GObject-WARNING **: 02:26:22.733: invalid cast from 'GtkToplevelAccessible' to 'GtkAccessible'\n",
      "\n",
      "(desmume:2): Gtk-CRITICAL **: 02:26:22.733: gtk_accessible_get_widget: assertion 'GTK_IS_ACCESSIBLE (accessible)' failed\n"
     ]
    },
    {
     "name": "stdout",
     "output_type": "stream",
     "text": [
      "dict_keys([])\n",
      "dict_keys([1])\n"
     ]
    },
    {
     "name": "stderr",
     "output_type": "stream",
     "text": [
      "\n",
      "(desmume:2): GLib-GObject-WARNING **: 02:26:24.872: invalid cast from 'GtkToplevelAccessible' to 'GtkAccessible'\n",
      "\n",
      "(desmume:2): Gtk-CRITICAL **: 02:26:24.872: gtk_accessible_get_widget: assertion 'GTK_IS_ACCESSIBLE (accessible)' failed\n"
     ]
    },
    {
     "name": "stdout",
     "output_type": "stream",
     "text": [
      "dict_keys([])\n",
      "dict_keys([])\n",
      "dict_keys([])\n",
      "dict_keys([])\n",
      "dict_keys([])\n",
      "dict_keys([])\n",
      "dict_keys([])\n",
      "dict_keys([])\n",
      "dict_keys([])\n",
      "dict_keys([])\n",
      "dict_keys([])\n"
     ]
    },
    {
     "name": "stderr",
     "output_type": "stream",
     "text": [
      "\n",
      "(desmume:2): GLib-GObject-WARNING **: 02:27:11.696: invalid cast from 'GtkToplevelAccessible' to 'GtkAccessible'\n",
      "\n",
      "(desmume:2): Gtk-CRITICAL **: 02:27:11.696: gtk_accessible_get_widget: assertion 'GTK_IS_ACCESSIBLE (accessible)' failed\n"
     ]
    },
    {
     "name": "stdout",
     "output_type": "stream",
     "text": [
      "dict_keys([])\n",
      "dict_keys([1])\n"
     ]
    },
    {
     "name": "stderr",
     "output_type": "stream",
     "text": [
      "\n",
      "(desmume:2): GLib-GObject-WARNING **: 02:27:12.184: invalid cast from 'GtkToplevelAccessible' to 'GtkAccessible'\n",
      "\n",
      "(desmume:2): Gtk-CRITICAL **: 02:27:12.184: gtk_accessible_get_widget: assertion 'GTK_IS_ACCESSIBLE (accessible)' failed\n",
      "\n",
      "(desmume:2): GLib-GObject-WARNING **: 02:27:14.422: invalid cast from 'GtkToplevelAccessible' to 'GtkAccessible'\n",
      "\n",
      "(desmume:2): Gtk-CRITICAL **: 02:27:14.422: gtk_accessible_get_widget: assertion 'GTK_IS_ACCESSIBLE (accessible)' failed\n"
     ]
    },
    {
     "name": "stdout",
     "output_type": "stream",
     "text": [
      "dict_keys([])\n",
      "dict_keys([])\n",
      "dict_keys([])\n",
      "dict_keys([])\n",
      "dict_keys([])\n",
      "dict_keys([])\n",
      "dict_keys([])\n",
      "dict_keys([])\n",
      "dict_keys([])\n",
      "dict_keys([])\n",
      "dict_keys([])\n"
     ]
    },
    {
     "name": "stderr",
     "output_type": "stream",
     "text": [
      "\n",
      "(desmume:2): GLib-GObject-WARNING **: 02:28:01.513: invalid cast from 'GtkToplevelAccessible' to 'GtkAccessible'\n",
      "\n",
      "(desmume:2): Gtk-CRITICAL **: 02:28:01.513: gtk_accessible_get_widget: assertion 'GTK_IS_ACCESSIBLE (accessible)' failed\n"
     ]
    },
    {
     "name": "stdout",
     "output_type": "stream",
     "text": [
      "dict_keys([])\n",
      "dict_keys([1])\n"
     ]
    },
    {
     "name": "stderr",
     "output_type": "stream",
     "text": [
      "\n",
      "(desmume:2): GLib-GObject-WARNING **: 02:28:01.829: invalid cast from 'GtkToplevelAccessible' to 'GtkAccessible'\n",
      "\n",
      "(desmume:2): Gtk-CRITICAL **: 02:28:01.829: gtk_accessible_get_widget: assertion 'GTK_IS_ACCESSIBLE (accessible)' failed\n",
      "\n",
      "(desmume:2): GLib-GObject-WARNING **: 02:28:04.171: invalid cast from 'GtkToplevelAccessible' to 'GtkAccessible'\n",
      "\n",
      "(desmume:2): Gtk-CRITICAL **: 02:28:04.171: gtk_accessible_get_widget: assertion 'GTK_IS_ACCESSIBLE (accessible)' failed\n"
     ]
    },
    {
     "name": "stdout",
     "output_type": "stream",
     "text": [
      "dict_keys([])\n",
      "dict_keys([])\n",
      "dict_keys([])\n",
      "dict_keys([])\n",
      "dict_keys([])\n",
      "dict_keys([])\n",
      "dict_keys([])\n",
      "dict_keys([])\n",
      "dict_keys([])\n",
      "dict_keys([])\n",
      "dict_keys([])\n"
     ]
    },
    {
     "name": "stderr",
     "output_type": "stream",
     "text": [
      "\n",
      "(desmume:2): GLib-GObject-WARNING **: 02:28:50.894: invalid cast from 'GtkToplevelAccessible' to 'GtkAccessible'\n",
      "\n",
      "(desmume:2): Gtk-CRITICAL **: 02:28:50.894: gtk_accessible_get_widget: assertion 'GTK_IS_ACCESSIBLE (accessible)' failed\n"
     ]
    },
    {
     "name": "stdout",
     "output_type": "stream",
     "text": [
      "dict_keys([])\n",
      "dict_keys([1])\n"
     ]
    },
    {
     "name": "stderr",
     "output_type": "stream",
     "text": [
      "\n",
      "(desmume:2): GLib-GObject-WARNING **: 02:28:51.380: invalid cast from 'GtkToplevelAccessible' to 'GtkAccessible'\n",
      "\n",
      "(desmume:2): Gtk-CRITICAL **: 02:28:51.380: gtk_accessible_get_widget: assertion 'GTK_IS_ACCESSIBLE (accessible)' failed\n",
      "\n",
      "(desmume:2): GLib-GObject-WARNING **: 02:28:53.512: invalid cast from 'GtkToplevelAccessible' to 'GtkAccessible'\n",
      "\n",
      "(desmume:2): Gtk-CRITICAL **: 02:28:53.512: gtk_accessible_get_widget: assertion 'GTK_IS_ACCESSIBLE (accessible)' failed\n"
     ]
    },
    {
     "name": "stdout",
     "output_type": "stream",
     "text": [
      "dict_keys([])\n",
      "dict_keys([])\n",
      "dict_keys([])\n",
      "dict_keys([])\n",
      "dict_keys([])\n",
      "dict_keys([])\n",
      "dict_keys([])\n",
      "dict_keys([])\n",
      "dict_keys([])\n",
      "dict_keys([])\n",
      "dict_keys([])\n"
     ]
    },
    {
     "name": "stderr",
     "output_type": "stream",
     "text": [
      "\n",
      "(desmume:2): GLib-GObject-WARNING **: 02:29:40.114: invalid cast from 'GtkToplevelAccessible' to 'GtkAccessible'\n",
      "\n",
      "(desmume:2): Gtk-CRITICAL **: 02:29:40.114: gtk_accessible_get_widget: assertion 'GTK_IS_ACCESSIBLE (accessible)' failed\n"
     ]
    },
    {
     "name": "stdout",
     "output_type": "stream",
     "text": [
      "dict_keys([])\n",
      "dict_keys([1])\n"
     ]
    },
    {
     "name": "stderr",
     "output_type": "stream",
     "text": [
      "\n",
      "(desmume:2): GLib-GObject-WARNING **: 02:29:40.594: invalid cast from 'GtkToplevelAccessible' to 'GtkAccessible'\n",
      "\n",
      "(desmume:2): Gtk-CRITICAL **: 02:29:40.594: gtk_accessible_get_widget: assertion 'GTK_IS_ACCESSIBLE (accessible)' failed\n",
      "\n",
      "(desmume:2): GLib-GObject-WARNING **: 02:29:42.892: invalid cast from 'GtkToplevelAccessible' to 'GtkAccessible'\n",
      "\n",
      "(desmume:2): Gtk-CRITICAL **: 02:29:42.892: gtk_accessible_get_widget: assertion 'GTK_IS_ACCESSIBLE (accessible)' failed\n"
     ]
    },
    {
     "name": "stdout",
     "output_type": "stream",
     "text": [
      "dict_keys([])\n",
      "dict_keys([])\n",
      "dict_keys([])\n",
      "dict_keys([])\n",
      "dict_keys([])\n",
      "dict_keys([])\n",
      "dict_keys([])\n",
      "dict_keys([])\n",
      "dict_keys([])\n",
      "dict_keys([])\n",
      "dict_keys([])\n"
     ]
    },
    {
     "name": "stderr",
     "output_type": "stream",
     "text": [
      "\n",
      "(desmume:2): GLib-GObject-WARNING **: 02:30:29.716: invalid cast from 'GtkToplevelAccessible' to 'GtkAccessible'\n",
      "\n",
      "(desmume:2): Gtk-CRITICAL **: 02:30:29.716: gtk_accessible_get_widget: assertion 'GTK_IS_ACCESSIBLE (accessible)' failed\n"
     ]
    },
    {
     "name": "stdout",
     "output_type": "stream",
     "text": [
      "dict_keys([])\n",
      "dict_keys([1])\n"
     ]
    },
    {
     "name": "stderr",
     "output_type": "stream",
     "text": [
      "\n",
      "(desmume:2): GLib-GObject-WARNING **: 02:30:30.202: invalid cast from 'GtkToplevelAccessible' to 'GtkAccessible'\n",
      "\n",
      "(desmume:2): Gtk-CRITICAL **: 02:30:30.202: gtk_accessible_get_widget: assertion 'GTK_IS_ACCESSIBLE (accessible)' failed\n",
      "\n",
      "(desmume:2): GLib-GObject-WARNING **: 02:30:32.485: invalid cast from 'GtkToplevelAccessible' to 'GtkAccessible'\n",
      "\n",
      "(desmume:2): Gtk-CRITICAL **: 02:30:32.485: gtk_accessible_get_widget: assertion 'GTK_IS_ACCESSIBLE (accessible)' failed\n"
     ]
    },
    {
     "name": "stdout",
     "output_type": "stream",
     "text": [
      "dict_keys([])\n",
      "auto-selected device type: None (0xFF)\n",
      "BackupDevice: size = 4 Mbit\n",
      "CPU mode: Interpreter\n",
      "Already decrypted.\n",
      "WIFI: MAC Address = 00:09:BF:12:34:56\n",
      "WIFI: Emulation level is OFF.\n",
      "MC9: Unverified Backup Memory command: 08 FROM 020DD624\n",
      "MC9: Unverified Backup Memory command: 08 FROM 020DD6CC\n",
      "MC9: Unverified Backup Memory command: 08 FROM 020DD624\n",
      "MC9: Unverified Backup Memory command: 08 FROM 020DD6CC\n",
      "Slot1 auto-selected device type: Retail MC+ROM\n",
      "Slot2 auto-selected device type: None (0xFF)\n",
      "BackupDevice: size = 4 Mbit\n",
      "CPU mode: Interpreter\n",
      "Already decrypted.\n",
      "WIFI: MAC Address = 00:09:BF:12:34:56\n",
      "WIFI: Emulation level is OFF.\n",
      "MC9: Unverified Backup Memory command: 08 FROM 020DD624\n",
      "MC9: Unverified Backup Memory command: 08 FROM 020DD6CC\n",
      "MC9: Unverified Backup Memory command: 08 FROM 020DD624\n",
      "MC9: Unverified Backup Memory command: 08 FROM 020DD6CC\n",
      "Slot1 auto-selected device type: Retail MC+ROM\n",
      "Slot2 auto-selected device type: None (0xFF)\n",
      "BackupDevice: size = 4 Mbit\n",
      "CPU mode: Interpreter\n",
      "Already decrypted.\n",
      "WIFI: MAC Address = 00:09:BF:12:34:56\n",
      "WIFI: Emulation level is OFF.\n",
      "MC9: Unverified Backup Memory command: 08 FROM 020DD624\n",
      "MC9: Unverified Backup Memory command: 08 FROM 020DD6CC\n",
      "MC9: Unverified Backup Memory command: 08 FROM 020DD624\n",
      "MC9: Unverified Backup Memory command: 08 FROM 020DD6CC\n",
      "Slot1 auto-selected device type: Retail MC+ROM\n",
      "Slot2 auto-selected device type: None (0xFF)\n",
      "BackupDevice: size = 4 Mbit\n",
      "CPU mode: Interpreter\n",
      "Already decrypted.\n",
      "WIFI: MAC Address = 00:09:BF:12:34:56\n",
      "WIFI: Emulation level is OFF.\n",
      "MC9: Unverified Backup Memory command: 08 FROM 020DD624\n",
      "MC9: Unverified Backup Memory command: 08 FROM 020DD6CC\n",
      "MC9: Unverified Backup Memory command: 08 FROM 020DD624\n",
      "MC9: Unverified Backup Memory command: 08 FROM 020DD6CC\n",
      "Slot1 auto-selected device type: Retail MC+ROM\n",
      "Slot2 auto-selected device type: None (0xFF)\n",
      "BackupDevice: size = 4 Mbit\n",
      "CPU mode: Interpreter\n",
      "Already decrypted.\n",
      "WIFI: MAC Address = 00:09:BF:12:34:56\n",
      "WIFI: Emulation level is OFF.\n",
      "MC9: Unverified Backup Memory command: 08 FROM 020DD624\n",
      "MC9: Unverified Backup Memory command: 08 FROM 020DD6CC\n",
      "MC9: Unverified Backup Memory command: 08 FROM 020DD624\n",
      "MC9: Unverified Backup Memory command: 08 FROM 020DD6CC\n",
      "Slot1 auto-selected device type: Retail MC+ROM\n",
      "Slot2 auto-selected device type: None (0xFF)\n",
      "BackupDevice: size = 4 Mbit\n",
      "CPU mode: Interpreter\n",
      "Already decrypted.\n",
      "WIFI: MAC Address = 00:09:BF:12:34:56\n",
      "WIFI: Emulation level is OFF.\n",
      "MC9: Unverified Backup Memory command: 08 FROM 020DD624\n",
      "MC9: Unverified Backup Memory command: 08 FROM 020DD6CC\n",
      "MC9: Unverified Backup Memory command: 08 FROM 020DD624\n",
      "MC9: Unverified Backup Memory command: 08 FROM 020DD6CC\n",
      "Slot1 auto-selected device type: Retail MC+ROM\n",
      "Slot2 auto-selected device type: None (0xFF)\n",
      "BackupDevice: size = 4 Mbit\n",
      "CPU mode: Interpreter\n",
      "Already decrypted.\n",
      "WIFI: MAC Address = 00:09:BF:12:34:56\n",
      "WIFI: Emulation level is OFF.\n",
      "MC9: Unverified Backup Memory command: 08 FROM 020DD624\n",
      "MC9: Unverified Backup Memory command: 08 FROM 020DD6CC\n",
      "MC9: Unverified Backup Memory command: 08 FROM 020DD624\n",
      "MC9: Unverified Backup Memory command: 08 FROM 020DD6CC\n",
      "Slot1 auto-selected device type: Retail MC+ROM\n",
      "Slot2 auto-selected device type: None (0xFF)\n",
      "BackupDevice: size = 4 Mbit\n",
      "CPU mode: Interpreter\n",
      "Already decrypted.\n",
      "WIFI: MAC Address = 00:09:BF:12:34:56\n",
      "WIFI: Emulation level is OFF.\n"
     ]
    },
    {
     "ename": "KeyboardInterrupt",
     "evalue": "",
     "output_type": "error",
     "traceback": [
      "\u001B[0;31m---------------------------------------------------------------------------\u001B[0m",
      "\u001B[0;31mKeyboardInterrupt\u001B[0m                         Traceback (most recent call last)",
      "Cell \u001B[0;32mIn[9], line 5\u001B[0m\n\u001B[1;32m      3\u001B[0m pl \u001B[38;5;241m=\u001B[39m JobActionPipelineBase(config, job_config)\n\u001B[1;32m      4\u001B[0m pl\u001B[38;5;241m.\u001B[39mvalidate()\n\u001B[0;32m----> 5\u001B[0m \u001B[43mpl\u001B[49m\u001B[43m(\u001B[49m\u001B[43mapplication\u001B[49m\u001B[43m)\u001B[49m\n",
      "File \u001B[0;32m~/Projects/ds-robot/dsrobo/job_actions/pipeline/linux_gtk.py:81\u001B[0m, in \u001B[0;36mJobActionPipelineBase.__call__\u001B[0;34m(self, application)\u001B[0m\n\u001B[1;32m     79\u001B[0m \u001B[38;5;28;01mdef\u001B[39;00m \u001B[38;5;21m__call__\u001B[39m(\u001B[38;5;28mself\u001B[39m, application: Accessible):\n\u001B[1;32m     80\u001B[0m     \u001B[38;5;28mself\u001B[39m\u001B[38;5;241m.\u001B[39mregister_reserved_elements(application)\n\u001B[0;32m---> 81\u001B[0m     \u001B[38;5;28;43mself\u001B[39;49m\u001B[38;5;241;43m.\u001B[39;49m\u001B[43m_run_series_of_actions\u001B[49m\u001B[43m(\u001B[49m\u001B[38;5;28;43mself\u001B[39;49m\u001B[38;5;241;43m.\u001B[39;49m\u001B[43mjob_config\u001B[49m\u001B[38;5;241;43m.\u001B[39;49m\u001B[43mactions\u001B[49m\u001B[43m,\u001B[49m\u001B[43m \u001B[49m\u001B[38;5;28;43mself\u001B[39;49m\u001B[38;5;241;43m.\u001B[39;49m\u001B[43mdest_root_dir\u001B[49m\u001B[43m)\u001B[49m\n",
      "File \u001B[0;32m~/Projects/ds-robot/dsrobo/job_actions/pipeline/linux_gtk.py:76\u001B[0m, in \u001B[0;36mJobActionPipelineBase._run_series_of_actions\u001B[0;34m(self, actions, dest_root)\u001B[0m\n\u001B[1;32m     74\u001B[0m \u001B[38;5;28;01mfor\u001B[39;00m i, action \u001B[38;5;129;01min\u001B[39;00m \u001B[38;5;28menumerate\u001B[39m(actions):\n\u001B[1;32m     75\u001B[0m     action_name \u001B[38;5;241m=\u001B[39m \u001B[38;5;124mf\u001B[39m\u001B[38;5;124m\"\u001B[39m\u001B[38;5;132;01m{\u001B[39;00mi\u001B[38;5;132;01m}\u001B[39;00m\u001B[38;5;124m_\u001B[39m\u001B[38;5;132;01m{\u001B[39;00maction\u001B[38;5;241m.\u001B[39maction_name\u001B[38;5;132;01m}\u001B[39;00m\u001B[38;5;124m_\u001B[39m\u001B[38;5;132;01m{\u001B[39;00m\u001B[38;5;28mstr\u001B[39m(action\u001B[38;5;241m.\u001B[39maction_type)\u001B[38;5;132;01m}\u001B[39;00m\u001B[38;5;124m\"\u001B[39m\n\u001B[0;32m---> 76\u001B[0m     \u001B[38;5;28;43mself\u001B[39;49m\u001B[38;5;241;43m.\u001B[39;49m\u001B[43m_run_action\u001B[49m\u001B[43m(\u001B[49m\u001B[43maction\u001B[49m\u001B[43m,\u001B[49m\u001B[43m \u001B[49m\u001B[43mdest_root\u001B[49m\u001B[43m \u001B[49m\u001B[38;5;241;43m/\u001B[39;49m\u001B[43m \u001B[49m\u001B[43maction_name\u001B[49m\u001B[43m)\u001B[49m\n\u001B[1;32m     77\u001B[0m \u001B[38;5;28;01mreturn\u001B[39;00m\n",
      "File \u001B[0;32m~/Projects/ds-robot/dsrobo/job_actions/pipeline/linux_gtk.py:70\u001B[0m, in \u001B[0;36mJobActionPipelineBase._run_action\u001B[0;34m(self, action, dest_root)\u001B[0m\n\u001B[1;32m     68\u001B[0m     \u001B[38;5;28;01mfor\u001B[39;00m i \u001B[38;5;129;01min\u001B[39;00m \u001B[38;5;28mrange\u001B[39m(action\u001B[38;5;241m.\u001B[39mn_repeats):\n\u001B[1;32m     69\u001B[0m         dest_root_ \u001B[38;5;241m=\u001B[39m dest_root \u001B[38;5;241m/\u001B[39m \u001B[38;5;124mf\u001B[39m\u001B[38;5;124m\"\u001B[39m\u001B[38;5;132;01m{\u001B[39;00mi\u001B[38;5;132;01m}\u001B[39;00m\u001B[38;5;124m\"\u001B[39m\n\u001B[0;32m---> 70\u001B[0m         \u001B[38;5;28;43mself\u001B[39;49m\u001B[38;5;241;43m.\u001B[39;49m\u001B[43m_run_single_action\u001B[49m\u001B[43m(\u001B[49m\u001B[43maction\u001B[49m\u001B[43m,\u001B[49m\u001B[43m \u001B[49m\u001B[43mdest_root_\u001B[49m\u001B[43m)\u001B[49m\n\u001B[1;32m     71\u001B[0m \u001B[38;5;28;01mreturn\u001B[39;00m\n",
      "File \u001B[0;32m~/Projects/ds-robot/dsrobo/job_actions/pipeline/linux_gtk.py:62\u001B[0m, in \u001B[0;36mJobActionPipelineBase._run_single_action\u001B[0;34m(self, action, dest)\u001B[0m\n\u001B[1;32m     60\u001B[0m \u001B[38;5;28;01mif\u001B[39;00m next_actions \u001B[38;5;129;01mis\u001B[39;00m \u001B[38;5;28;01mNone\u001B[39;00m:\n\u001B[1;32m     61\u001B[0m     \u001B[38;5;28;01mreturn\u001B[39;00m\n\u001B[0;32m---> 62\u001B[0m \u001B[38;5;28;43mself\u001B[39;49m\u001B[38;5;241;43m.\u001B[39;49m\u001B[43m_run_series_of_actions\u001B[49m\u001B[43m(\u001B[49m\u001B[43mnext_actions\u001B[49m\u001B[43m,\u001B[49m\u001B[43m \u001B[49m\u001B[43mdest\u001B[49m\u001B[43m)\u001B[49m\n",
      "File \u001B[0;32m~/Projects/ds-robot/dsrobo/job_actions/pipeline/linux_gtk.py:76\u001B[0m, in \u001B[0;36mJobActionPipelineBase._run_series_of_actions\u001B[0;34m(self, actions, dest_root)\u001B[0m\n\u001B[1;32m     74\u001B[0m \u001B[38;5;28;01mfor\u001B[39;00m i, action \u001B[38;5;129;01min\u001B[39;00m \u001B[38;5;28menumerate\u001B[39m(actions):\n\u001B[1;32m     75\u001B[0m     action_name \u001B[38;5;241m=\u001B[39m \u001B[38;5;124mf\u001B[39m\u001B[38;5;124m\"\u001B[39m\u001B[38;5;132;01m{\u001B[39;00mi\u001B[38;5;132;01m}\u001B[39;00m\u001B[38;5;124m_\u001B[39m\u001B[38;5;132;01m{\u001B[39;00maction\u001B[38;5;241m.\u001B[39maction_name\u001B[38;5;132;01m}\u001B[39;00m\u001B[38;5;124m_\u001B[39m\u001B[38;5;132;01m{\u001B[39;00m\u001B[38;5;28mstr\u001B[39m(action\u001B[38;5;241m.\u001B[39maction_type)\u001B[38;5;132;01m}\u001B[39;00m\u001B[38;5;124m\"\u001B[39m\n\u001B[0;32m---> 76\u001B[0m     \u001B[38;5;28;43mself\u001B[39;49m\u001B[38;5;241;43m.\u001B[39;49m\u001B[43m_run_action\u001B[49m\u001B[43m(\u001B[49m\u001B[43maction\u001B[49m\u001B[43m,\u001B[49m\u001B[43m \u001B[49m\u001B[43mdest_root\u001B[49m\u001B[43m \u001B[49m\u001B[38;5;241;43m/\u001B[39;49m\u001B[43m \u001B[49m\u001B[43maction_name\u001B[49m\u001B[43m)\u001B[49m\n\u001B[1;32m     77\u001B[0m \u001B[38;5;28;01mreturn\u001B[39;00m\n",
      "File \u001B[0;32m~/Projects/ds-robot/dsrobo/job_actions/pipeline/linux_gtk.py:66\u001B[0m, in \u001B[0;36mJobActionPipelineBase._run_action\u001B[0;34m(self, action, dest_root)\u001B[0m\n\u001B[1;32m     64\u001B[0m \u001B[38;5;28;01mdef\u001B[39;00m \u001B[38;5;21m_run_action\u001B[39m(\u001B[38;5;28mself\u001B[39m, action: JobActionConfig, dest_root: Path):\n\u001B[1;32m     65\u001B[0m     \u001B[38;5;28;01mif\u001B[39;00m action\u001B[38;5;241m.\u001B[39mn_repeats \u001B[38;5;129;01mis\u001B[39;00m \u001B[38;5;28;01mNone\u001B[39;00m:\n\u001B[0;32m---> 66\u001B[0m         \u001B[38;5;28;01mreturn\u001B[39;00m \u001B[38;5;28;43mself\u001B[39;49m\u001B[38;5;241;43m.\u001B[39;49m\u001B[43m_run_single_action\u001B[49m\u001B[43m(\u001B[49m\u001B[43maction\u001B[49m\u001B[43m,\u001B[49m\u001B[43m \u001B[49m\u001B[43mdest_root\u001B[49m\u001B[43m)\u001B[49m\n\u001B[1;32m     67\u001B[0m     \u001B[38;5;28;01melse\u001B[39;00m:\n\u001B[1;32m     68\u001B[0m         \u001B[38;5;28;01mfor\u001B[39;00m i \u001B[38;5;129;01min\u001B[39;00m \u001B[38;5;28mrange\u001B[39m(action\u001B[38;5;241m.\u001B[39mn_repeats):\n",
      "File \u001B[0;32m~/Projects/ds-robot/dsrobo/job_actions/pipeline/linux_gtk.py:57\u001B[0m, in \u001B[0;36mJobActionPipelineBase._run_single_action\u001B[0;34m(self, action, dest)\u001B[0m\n\u001B[1;32m     55\u001B[0m app \u001B[38;5;241m=\u001B[39m \u001B[38;5;28mself\u001B[39m\u001B[38;5;241m.\u001B[39mstates\u001B[38;5;241m.\u001B[39melements[\u001B[38;5;124m'\u001B[39m\u001B[38;5;124mapplication\u001B[39m\u001B[38;5;124m'\u001B[39m]\n\u001B[1;32m     56\u001B[0m element \u001B[38;5;241m=\u001B[39m \u001B[38;5;28mself\u001B[39m\u001B[38;5;241m.\u001B[39mstates\u001B[38;5;241m.\u001B[39melements[action\u001B[38;5;241m.\u001B[39mtarget_element]\n\u001B[0;32m---> 57\u001B[0m status, result \u001B[38;5;241m=\u001B[39m \u001B[43maction_obj\u001B[49m\u001B[43m(\u001B[49m\u001B[38;5;28;43mself\u001B[39;49m\u001B[38;5;241;43m.\u001B[39;49m\u001B[43mstates\u001B[49m\u001B[43m,\u001B[49m\u001B[43m \u001B[49m\u001B[43mJobFileOutput\u001B[49m\u001B[43m(\u001B[49m\u001B[43mdest\u001B[49m\u001B[43m)\u001B[49m\u001B[43m,\u001B[49m\u001B[43m \u001B[49m\u001B[43mapp\u001B[49m\u001B[43m,\u001B[49m\u001B[43m \u001B[49m\u001B[43melement\u001B[49m\u001B[43m,\u001B[49m\u001B[43m \u001B[49m\u001B[43maction\u001B[49m\u001B[38;5;241;43m.\u001B[39;49m\u001B[43maction_parameters\u001B[49m\u001B[43m)\u001B[49m\n\u001B[1;32m     58\u001B[0m \u001B[38;5;28mprint\u001B[39m(action\u001B[38;5;241m.\u001B[39mthen\u001B[38;5;241m.\u001B[39mkeys())\n\u001B[1;32m     59\u001B[0m next_actions \u001B[38;5;241m=\u001B[39m action\u001B[38;5;241m.\u001B[39mthen\u001B[38;5;241m.\u001B[39mget(\u001B[38;5;28mint\u001B[39m(status), \u001B[38;5;28;01mNone\u001B[39;00m)\n",
      "File \u001B[0;32m~/Projects/ds-robot/dsrobo/job_actions/base/linux_gtk.py:46\u001B[0m, in \u001B[0;36mJobActionBase.__call__\u001B[0;34m(self, states, file_output, application, element, parameters)\u001B[0m\n\u001B[1;32m     44\u001B[0m params \u001B[38;5;241m=\u001B[39m \u001B[38;5;28mself\u001B[39m\u001B[38;5;241m.\u001B[39m\u001B[38;5;18m__class__\u001B[39m\u001B[38;5;241m.\u001B[39mP\u001B[38;5;241m.\u001B[39mparse_obj(parameters)\n\u001B[1;32m     45\u001B[0m \u001B[38;5;28mself\u001B[39m\u001B[38;5;241m.\u001B[39mcheck_app_alive(application)\n\u001B[0;32m---> 46\u001B[0m \u001B[38;5;28;01mreturn\u001B[39;00m \u001B[38;5;28;43mself\u001B[39;49m\u001B[38;5;241;43m.\u001B[39;49m\u001B[43m_impl\u001B[49m\u001B[43m(\u001B[49m\u001B[43mstates\u001B[49m\u001B[43m,\u001B[49m\u001B[43m \u001B[49m\u001B[43mfile_output\u001B[49m\u001B[43m,\u001B[49m\u001B[43m \u001B[49m\u001B[43melement\u001B[49m\u001B[43m,\u001B[49m\u001B[43m \u001B[49m\u001B[43mparams\u001B[49m\u001B[43m)\u001B[49m\n",
      "File \u001B[0;32m~/Projects/ds-robot/dsrobo/job_actions/common/linux_gtk.py:131\u001B[0m, in \u001B[0;36mCommonSendControl._impl\u001B[0;34m(self, states, file_output, element, parameters)\u001B[0m\n\u001B[1;32m    129\u001B[0m registry \u001B[38;5;241m=\u001B[39m pyatspi\u001B[38;5;241m.\u001B[39mRegistry()\n\u001B[1;32m    130\u001B[0m press_key(registry, parameters\u001B[38;5;241m.\u001B[39mkey, parameters\u001B[38;5;241m.\u001B[39mpress_duration)\n\u001B[0;32m--> 131\u001B[0m \u001B[43mtime\u001B[49m\u001B[38;5;241;43m.\u001B[39;49m\u001B[43msleep\u001B[49m\u001B[43m(\u001B[49m\u001B[43mparameters\u001B[49m\u001B[38;5;241;43m.\u001B[39;49m\u001B[43mwait_seconds\u001B[49m\u001B[43m)\u001B[49m\n\u001B[1;32m    132\u001B[0m \u001B[38;5;28;01mreturn\u001B[39;00m \u001B[38;5;28;01mTrue\u001B[39;00m, element\n",
      "\u001B[0;31mKeyboardInterrupt\u001B[0m: "
     ]
    }
   ],
   "execution_count": 9
  },
  {
   "cell_type": "code",
   "id": "e83e308f-28dc-4a87-bd98-21d9e5c0cf15",
   "metadata": {
    "ExecuteTime": {
     "end_time": "2024-05-11T16:37:59.672442Z",
     "start_time": "2024-05-11T16:37:59.669296Z"
    }
   },
   "source": "from dsrobo.util.linux_gtk import take_screenshot",
   "outputs": [],
   "execution_count": 21
  },
  {
   "metadata": {
    "ExecuteTime": {
     "end_time": "2024-05-11T16:38:43.781815Z",
     "start_time": "2024-05-11T16:38:43.765098Z"
    }
   },
   "cell_type": "code",
   "source": "take_screenshot(pl.states.elements[\"main_window\"], \"./ss.jpg\")",
   "id": "9eccaf19ded8eedb",
   "outputs": [
    {
     "ename": "Error",
     "evalue": "atspi_error: The application no longer exists (0)",
     "output_type": "error",
     "traceback": [
      "\u001B[0;31m---------------------------------------------------------------------------\u001B[0m",
      "\u001B[0;31mError\u001B[0m                                     Traceback (most recent call last)",
      "Cell \u001B[0;32mIn[24], line 1\u001B[0m\n\u001B[0;32m----> 1\u001B[0m \u001B[43mtake_screenshot\u001B[49m\u001B[43m(\u001B[49m\u001B[43mpl\u001B[49m\u001B[38;5;241;43m.\u001B[39;49m\u001B[43mstates\u001B[49m\u001B[38;5;241;43m.\u001B[39;49m\u001B[43melements\u001B[49m\u001B[43m[\u001B[49m\u001B[38;5;124;43m\"\u001B[39;49m\u001B[38;5;124;43mmain_window\u001B[39;49m\u001B[38;5;124;43m\"\u001B[39;49m\u001B[43m]\u001B[49m\u001B[43m,\u001B[49m\u001B[43m \u001B[49m\u001B[38;5;124;43m\"\u001B[39;49m\u001B[38;5;124;43m./ss.jpg\u001B[39;49m\u001B[38;5;124;43m\"\u001B[39;49m\u001B[43m)\u001B[49m\n",
      "File \u001B[0;32m~/Projects/ds-robot/dsrobo/util/linux_gtk.py:184\u001B[0m, in \u001B[0;36mtake_screenshot\u001B[0;34m(window, dest_path)\u001B[0m\n\u001B[1;32m    183\u001B[0m \u001B[38;5;28;01mdef\u001B[39;00m \u001B[38;5;21mtake_screenshot\u001B[39m(window: Accessible, dest_path: \u001B[38;5;28mstr\u001B[39m) \u001B[38;5;241m-\u001B[39m\u001B[38;5;241m>\u001B[39m \u001B[38;5;28mbool\u001B[39m:\n\u001B[0;32m--> 184\u001B[0m     role \u001B[38;5;241m=\u001B[39m \u001B[43mwindow\u001B[49m\u001B[38;5;241;43m.\u001B[39;49m\u001B[43mgetRoleName\u001B[49m\u001B[43m(\u001B[49m\u001B[43m)\u001B[49m\n\u001B[1;32m    185\u001B[0m     \u001B[38;5;28;01mif\u001B[39;00m role \u001B[38;5;241m!=\u001B[39m \u001B[38;5;124m\"\u001B[39m\u001B[38;5;124mapplication\u001B[39m\u001B[38;5;124m\"\u001B[39m:\n\u001B[1;32m    186\u001B[0m         \u001B[38;5;28;01mreturn\u001B[39;00m \u001B[38;5;28;01mFalse\u001B[39;00m\n",
      "\u001B[0;31mError\u001B[0m: atspi_error: The application no longer exists (0)"
     ]
    }
   ],
   "execution_count": 24
  },
  {
   "metadata": {
    "ExecuteTime": {
     "end_time": "2024-05-11T17:00:30.433275Z",
     "start_time": "2024-05-11T17:00:30.428474Z"
    }
   },
   "cell_type": "code",
   "source": "from dsrobo.job_actions.desmume import DeSmuMESaveStateFileLinuxGTK",
   "id": "23ddce04b436fa18",
   "outputs": [],
   "execution_count": 10
  },
  {
   "metadata": {
    "ExecuteTime": {
     "end_time": "2024-05-11T17:00:51.955518Z",
     "start_time": "2024-05-11T17:00:51.951450Z"
    }
   },
   "cell_type": "code",
   "source": "job = DeSmuMESaveStateFileLinuxGTK()",
   "id": "21eb6c28c8359c62",
   "outputs": [],
   "execution_count": 12
  },
  {
   "metadata": {},
   "cell_type": "code",
   "outputs": [],
   "execution_count": null,
   "source": "job()",
   "id": "7f1ed9b5c808eccc"
  },
  {
   "cell_type": "code",
   "execution_count": null,
   "id": "e737abe1-5361-4bda-8907-5defa436acf5",
   "metadata": {},
   "source": [
    "from collections import OrderedDict\n",
    "from pathlib import Path\n",
    "from typing import Optional\n",
    "\n",
    "import cv2\n",
    "import numpy\n",
    "\n",
    "\n",
    "def assert_find(directory: Path, pattern: str):\n",
    "    found = list(directory.glob(pattern))\n",
    "    assert len(found) == 1\n",
    "    return found[0]\n",
    "\n",
    "\n",
    "def load_image(path: Path, interest_region: Optional[tuple[int, int, int, int]] = None) -> numpy.ndarray:\n",
    "    img = cv2.imread(str(path), cv2.IMREAD_COLOR)\n",
    "    if interest_region is not None:\n",
    "        x, y, w, h = interest_region\n",
    "        crop = img[y:y + h, x:x + w]\n",
    "        return crop\n",
    "    return img\n",
    "\n",
    "\n",
    "def load_images(job_dir: Path, iteration_job_no: int, image_job_no: int, image_name: str,\n",
    "                interest_region: Optional[tuple[int, int, int, int]] = None) -> dict[str, numpy.ndarray]:\n",
    "    iteration_job_dir = assert_find(job_dir, f\"{iteration_job_no}_*\")\n",
    "    image_files = {iter_dir.stem: assert_find(iter_dir, f\"{image_job_no}_*/{image_name}\")\n",
    "                   for iter_dir in iteration_job_dir.glob(\"*\") if iter_dir.is_dir()}\n",
    "    return {iter_no: load_image(iter_path, interest_region)\n",
    "            for iter_no, iter_path in image_files.items()}\n",
    "\n",
    "\n",
    "def dump_result(dest_root: Path, images: dict[str, numpy.ndarray], scores: OrderedDict) -> None:\n",
    "    n_imgs = len(images)\n",
    "    n_digits = len(str(n_imgs))\n",
    "    dest_root.mkdir(exist_ok=True, parents=True)\n",
    "    for i, (key, score) in enumerate(scores.items()):\n",
    "        dest_name = f\"{str(i).zfill(n_digits)}-{key}-{score}.png\"\n",
    "        dest_path = dest_root / dest_name\n",
    "        cv2.imwrite(str(dest_path), images[key])\n"
   ],
   "outputs": []
  },
  {
   "cell_type": "code",
   "execution_count": null,
   "id": "677dbec7-c20b-4271-803b-779ae28df284",
   "metadata": {},
   "source": [
    "from pathlib import Path\n",
    "from typing import Optional, Type\n",
    "from collections import OrderedDict\n",
    "\n",
    "import cv2\n",
    "import numpy\n",
    "\n",
    "\n",
    "class AnomalyModel:\n",
    "    def fit(self, images: dict[str, numpy.ndarray]):\n",
    "        raise NotImplementedError()\n",
    "\n",
    "    def evaluate(self, image: numpy.ndarray):\n",
    "        raise NotImplementedError()\n",
    "\n",
    "\n",
    "class AbsSumAnomalyModel(AnomalyModel):\n",
    "    def __init__(self):\n",
    "        self.model = None\n",
    "\n",
    "    def fit(self, images: dict[str, numpy.ndarray]):\n",
    "        mean_img = numpy.mean(list(images.values()), axis=0, dtype='float32')\n",
    "        self.model = mean_img\n",
    "\n",
    "    def evaluate(self, image: numpy.ndarray):\n",
    "        assert image.shape == self.model.shape\n",
    "        abs_diff = numpy.abs(image - self.model)\n",
    "        abs_diff_sum = abs_diff.sum(axis=0).sum()\n",
    "        return abs_diff_sum\n",
    "\n",
    "\n",
    "class EvaluateAnomalyDetector(object):\n",
    "    def __init__(self, model_cls: Type[AnomalyModel] = AbsSumAnomalyModel):\n",
    "        self.model = model_cls()\n",
    "\n",
    "    def sample_img(self,\n",
    "                   images: dict[str, numpy.ndarray],\n",
    "                   dump_to: Optional[Path] = None):\n",
    "        key = list(images.keys())[0]\n",
    "        if dump_to is not None:\n",
    "            cv2.imwrite(str(dump_to), images[key])\n",
    "        return images[key]\n",
    "\n",
    "    def fit_model(self, images: dict[str, numpy.ndarray]):\n",
    "        self.model.fit(images)\n",
    "\n",
    "    def evaluate(self, images: dict[str, numpy.ndarray]):\n",
    "        results = {key: self.model.evaluate(image) for key, image in images.items()}\n",
    "        sorted_results = sorted(results.items(), key=lambda v: v[1], reverse=True)\n",
    "        od = OrderedDict()\n",
    "        for key, value in sorted_results:\n",
    "            od[key] = value\n",
    "        return od"
   ],
   "outputs": []
  },
  {
   "cell_type": "code",
   "execution_count": null,
   "id": "2860369e-01e3-4bf5-ad0e-a3d2c6b5ac41",
   "metadata": {},
   "source": "",
   "outputs": []
  },
  {
   "cell_type": "code",
   "execution_count": null,
   "id": "1aa39ff4-cf87-46ec-89d6-65e09e8fd225",
   "metadata": {},
   "source": [
    "images = load_images(\n",
    "    Path(\"artifacts/POKEMON_SS_Shiny_starter-b10032b3-c36a-4556-99d0-a54a4add941b/\"),\n",
    "    0,\n",
    "    6,\n",
    "    'pk1.png',\n",
    "    interest_region=(275, 250, 200, 200)\n",
    ")"
   ],
   "outputs": []
  },
  {
   "cell_type": "code",
   "execution_count": null,
   "id": "f94fc538-def4-4427-a984-941192013d80",
   "metadata": {},
   "source": [
    "anomaly_detector = EvaluateAnomalyDetector(AbsSumAnomalyModel)"
   ],
   "outputs": []
  },
  {
   "cell_type": "code",
   "execution_count": null,
   "id": "02d6d93d-3326-40df-a7df-f5fac0a9b089",
   "metadata": {},
   "source": [
    "anomaly_detector.fit_model(images)"
   ],
   "outputs": []
  },
  {
   "cell_type": "code",
   "execution_count": null,
   "id": "725fb4e5-41c7-49f9-83d5-c4773f8c9068",
   "metadata": {},
   "source": [
    "scores = anomaly_detector.evaluate(images)"
   ],
   "outputs": []
  },
  {
   "cell_type": "code",
   "execution_count": null,
   "id": "8c5b8285-1434-4984-bbb5-df05f927fb75",
   "metadata": {},
   "source": [
    "dump_result(Path(\"6_pk1\"), images, scores)"
   ],
   "outputs": []
  },
  {
   "cell_type": "code",
   "execution_count": null,
   "id": "cf039eb6-4c29-4730-9c46-26cd6520ed3b",
   "metadata": {},
   "source": [],
   "outputs": []
  },
  {
   "cell_type": "code",
   "execution_count": null,
   "id": "dbfc64fc-86e7-4e50-99cd-7f7445f7c12c",
   "metadata": {},
   "source": [
    "images = load_images(\n",
    "    Path(\"artifacts/POKEMON_SS_Shiny_starter-b10032b3-c36a-4556-99d0-a54a4add941b/\"),\n",
    "    0,\n",
    "    8,\n",
    "    'pk2.png',\n",
    "    interest_region=(275, 250, 200, 200)\n",
    ")"
   ],
   "outputs": []
  },
  {
   "cell_type": "code",
   "execution_count": null,
   "id": "575cbbd2-fc0e-4874-bfa3-463f1bc99f13",
   "metadata": {},
   "source": [
    "anomaly_detector = EvaluateAnomalyDetector(AbsSumAnomalyModel)"
   ],
   "outputs": []
  },
  {
   "cell_type": "code",
   "execution_count": null,
   "id": "978624bc-aed1-4d68-9b22-6a75b04ee2a2",
   "metadata": {},
   "source": [
    "anomaly_detector.fit_model(images)"
   ],
   "outputs": []
  },
  {
   "cell_type": "code",
   "execution_count": null,
   "id": "848bbb57-0c1b-49ca-8220-e3fb57b8e39d",
   "metadata": {},
   "source": [
    "scores = anomaly_detector.evaluate(images)"
   ],
   "outputs": []
  },
  {
   "cell_type": "code",
   "execution_count": null,
   "id": "c4781db7-e718-4dc0-9b4a-e5dc35c44e12",
   "metadata": {},
   "source": [
    "dump_result(Path(\"8_pk2\"), images, scores)"
   ],
   "outputs": []
  },
  {
   "cell_type": "code",
   "execution_count": null,
   "id": "26551004-5ddd-47bf-b26a-8e3f9ac1d908",
   "metadata": {},
   "source": [],
   "outputs": []
  },
  {
   "cell_type": "code",
   "execution_count": null,
   "id": "eff94833-af9e-45fd-9cd1-38d31ada7356",
   "metadata": {},
   "source": [
    "images = load_images(\n",
    "    Path(\"artifacts/POKEMON_SS_Shiny_starter-b10032b3-c36a-4556-99d0-a54a4add941b/\"),\n",
    "    0,\n",
    "    10,\n",
    "    'pk3.png',\n",
    "    interest_region=(275, 250, 200, 200)\n",
    ")"
   ],
   "outputs": []
  },
  {
   "cell_type": "code",
   "execution_count": null,
   "id": "6c1e9d54-0cd1-4533-8daf-7924e50b0f1a",
   "metadata": {},
   "source": [
    "anomaly_detector = EvaluateAnomalyDetector(AbsSumAnomalyModel)"
   ],
   "outputs": []
  },
  {
   "cell_type": "code",
   "execution_count": null,
   "id": "797870b3-ab83-45c3-9dbc-88d4f866f0bb",
   "metadata": {},
   "source": [
    "anomaly_detector.fit_model(images)"
   ],
   "outputs": []
  },
  {
   "cell_type": "code",
   "execution_count": null,
   "id": "5244c1f1-a74d-425b-89c4-3c023e75ca7d",
   "metadata": {},
   "source": [
    "scores = anomaly_detector.evaluate(images)"
   ],
   "outputs": []
  },
  {
   "cell_type": "code",
   "execution_count": null,
   "id": "6c81ef6c-2806-4bd3-b7f4-84432b297130",
   "metadata": {},
   "source": [
    "dump_result(Path(\"10_pk3\"), images, scores)"
   ],
   "outputs": []
  },
  {
   "cell_type": "code",
   "execution_count": null,
   "id": "c83bfab7-8d6f-4cfe-8434-83fa2fc410b4",
   "metadata": {},
   "source": [],
   "outputs": []
  }
 ],
 "metadata": {
  "kernelspec": {
   "display_name": "Python 3 (ipykernel)",
   "language": "python",
   "name": "python3"
  },
  "language_info": {
   "codemirror_mode": {
    "name": "ipython",
    "version": 3
   },
   "file_extension": ".py",
   "mimetype": "text/x-python",
   "name": "python",
   "nbconvert_exporter": "python",
   "pygments_lexer": "ipython3",
   "version": "3.10.6"
  }
 },
 "nbformat": 4,
 "nbformat_minor": 5
}
