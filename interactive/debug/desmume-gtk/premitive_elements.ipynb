{
 "cells": [
  {
   "metadata": {
    "ExecuteTime": {
     "end_time": "2024-05-11T09:41:32.651340Z",
     "start_time": "2024-05-11T09:41:32.648980Z"
    }
   },
   "cell_type": "code",
   "source": "from dsrobo.config import Config",
   "id": "ed240e6a8773d983",
   "outputs": [],
   "execution_count": 2
  },
  {
   "metadata": {
    "ExecuteTime": {
     "end_time": "2024-05-11T09:41:33.155630Z",
     "start_time": "2024-05-11T09:41:33.153556Z"
    }
   },
   "cell_type": "code",
   "source": "config = Config()",
   "id": "21bc0feb2825cc01",
   "outputs": [],
   "execution_count": 3
  },
  {
   "metadata": {
    "ExecuteTime": {
     "end_time": "2024-05-11T09:41:54.533205Z",
     "start_time": "2024-05-11T09:41:54.424049Z"
    }
   },
   "cell_type": "code",
   "source": "from dsrobo.launcher.desmume.linux_gtk import DeSmuMELauncher",
   "id": "c1e8c645f9f4ae4f",
   "outputs": [],
   "execution_count": 4
  },
  {
   "metadata": {
    "ExecuteTime": {
     "end_time": "2024-05-11T09:42:21.652421Z",
     "start_time": "2024-05-11T09:42:17.588070Z"
    }
   },
   "cell_type": "code",
   "source": [
    "launcher = DeSmuMELauncher()\n",
    "application = launcher.launch(config)"
   ],
   "id": "7f42c8d5238f868d",
   "outputs": [
    {
     "name": "stderr",
     "output_type": "stream",
     "text": [
      "Gtk-Message: 18:42:18.253: Failed to load module \"canberra-gtk-module\"\n",
      "Gtk-Message: 18:42:18.255: Failed to load module \"canberra-gtk-module\"\n",
      "Using 32 threads for video filter.\n"
     ]
    }
   ],
   "execution_count": 5
  },
  {
   "metadata": {
    "ExecuteTime": {
     "end_time": "2024-05-11T09:46:01.852179Z",
     "start_time": "2024-05-11T09:46:01.849770Z"
    }
   },
   "cell_type": "code",
   "source": "application_name, main_window_title = config.desmume.main_window_name.split('.')",
   "id": "c982b9a29b5fabdc",
   "outputs": [],
   "execution_count": 16
  },
  {
   "metadata": {
    "ExecuteTime": {
     "end_time": "2024-05-11T09:46:02.608809Z",
     "start_time": "2024-05-11T09:46:02.605663Z"
    }
   },
   "cell_type": "code",
   "source": "from dsrobo.util.linux_gtk import *",
   "id": "f272d39565cf56cc",
   "outputs": [],
   "execution_count": 17
  },
  {
   "metadata": {
    "ExecuteTime": {
     "end_time": "2024-05-11T09:46:09.775644Z",
     "start_time": "2024-05-11T09:46:09.766860Z"
    }
   },
   "cell_type": "code",
   "source": "main_window = find_window_by_exact_name(application, main_window_title)",
   "id": "a38cfec0d84a07f0",
   "outputs": [],
   "execution_count": 18
  },
  {
   "metadata": {
    "ExecuteTime": {
     "end_time": "2024-05-11T09:46:11.022471Z",
     "start_time": "2024-05-11T09:46:11.019335Z"
    }
   },
   "cell_type": "code",
   "source": "main_window",
   "id": "df46c0f73449fb32",
   "outputs": [
    {
     "data": {
      "text/plain": [
       "<Atspi.Accessible object at 0x7ff57fd0dc40 (AtspiAccessible at 0x400fb80)>"
      ]
     },
     "execution_count": 19,
     "metadata": {},
     "output_type": "execute_result"
    }
   ],
   "execution_count": 19
  },
  {
   "metadata": {
    "ExecuteTime": {
     "end_time": "2024-05-11T09:47:02.583228Z",
     "start_time": "2024-05-11T09:47:02.573515Z"
    }
   },
   "cell_type": "code",
   "source": [
    "for child in main_window:\n",
    "    print(child.name, child.getRoleName())"
   ],
   "id": "c82ac8ce51301373",
   "outputs": [
    {
     "name": "stdout",
     "output_type": "stream",
     "text": [
      " filler\n",
      " menu bar\n"
     ]
    }
   ],
   "execution_count": 20
  },
  {
   "metadata": {
    "ExecuteTime": {
     "end_time": "2024-05-11T09:51:36.922958Z",
     "start_time": "2024-05-11T09:51:36.921148Z"
    }
   },
   "cell_type": "code",
   "source": "identifier = ElementIdentifier(role='menu bar')",
   "id": "4b54ddd7d0090482",
   "outputs": [],
   "execution_count": 38
  },
  {
   "metadata": {
    "ExecuteTime": {
     "end_time": "2024-05-11T09:51:37.149310Z",
     "start_time": "2024-05-11T09:51:37.144469Z"
    }
   },
   "cell_type": "code",
   "source": "find_element_by_role_and_id(main_window, identifier)",
   "id": "aedf110eca9c27db",
   "outputs": [],
   "execution_count": 39
  },
  {
   "metadata": {
    "ExecuteTime": {
     "end_time": "2024-05-11T09:58:01.325142Z",
     "start_time": "2024-05-11T09:58:01.322987Z"
    }
   },
   "cell_type": "code",
   "source": "application",
   "id": "86fe5c34596369c6",
   "outputs": [
    {
     "data": {
      "text/plain": [
       "<Atspi.Accessible object at 0x7ff57fcda8c0 (AtspiAccessible at 0x3dac5c0)>"
      ]
     },
     "execution_count": 40,
     "metadata": {},
     "output_type": "execute_result"
    }
   ],
   "execution_count": 40
  },
  {
   "metadata": {
    "ExecuteTime": {
     "end_time": "2024-05-11T09:58:25.081634Z",
     "start_time": "2024-05-11T09:58:25.074208Z"
    }
   },
   "cell_type": "code",
   "source": "application.getState().getStates()",
   "id": "5388d84726572d31",
   "outputs": [
    {
     "data": {
      "text/plain": [
       "[<enum ATSPI_STATE_DEFUNCT of type Atspi.StateType>]"
      ]
     },
     "execution_count": 44,
     "metadata": {},
     "output_type": "execute_result"
    }
   ],
   "execution_count": 44
  },
  {
   "metadata": {},
   "cell_type": "code",
   "outputs": [],
   "execution_count": null,
   "source": "",
   "id": "74f50fa5f58a6ecd"
  }
 ],
 "metadata": {
  "kernelspec": {
   "display_name": "Python 3",
   "language": "python",
   "name": "python3"
  },
  "language_info": {
   "codemirror_mode": {
    "name": "ipython",
    "version": 2
   },
   "file_extension": ".py",
   "mimetype": "text/x-python",
   "name": "python",
   "nbconvert_exporter": "python",
   "pygments_lexer": "ipython2",
   "version": "2.7.6"
  }
 },
 "nbformat": 4,
 "nbformat_minor": 5
}
